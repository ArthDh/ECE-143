{
 "cells": [
  {
   "cell_type": "code",
   "execution_count": 1,
   "metadata": {},
   "outputs": [],
   "source": [
    "# https://spotipy.readthedocs.io/en/2.16.1/\n",
    "# https://developer.spotify.com/console/get-audio-features-track/?id=06AKEBrKUckW0KREUWRnvT"
   ]
  },
  {
   "cell_type": "code",
   "execution_count": 2,
   "metadata": {},
   "outputs": [],
   "source": [
    "from spotify_interface import *\n",
    "import sys\n",
    "import time\n",
    "from IPython.display import display,HTML,clear_output"
   ]
  },
  {
   "cell_type": "code",
   "execution_count": 3,
   "metadata": {},
   "outputs": [],
   "source": [
    "with open('spotify_client.txt', 'rb') as f:\n",
    "    (client_id, client_secret, oauth_token) = pkl.load(f)"
   ]
  },
  {
   "cell_type": "code",
   "execution_count": 9,
   "metadata": {},
   "outputs": [],
   "source": [
    "def get_recommendations(artists, sp, lim = 1):\n",
    "    '''\n",
    "    Returns a list of recommendations based on model generated artists\n",
    "    \n",
    "    artists: KNN predicted artists - list \n",
    "    sp: Spotify Token - str\n",
    "    lim: Number of recommendations to return - int\n",
    "    '''\n",
    "    \n",
    "    assert isinstance(artists, list), \"artists should be a list\"\n",
    "    assert isinstance(lim, int), \"lim should be a int\"\n",
    "    for i in artists:\n",
    "        assert isinstance(i, str), \"Each artist should be a string\"\n",
    "    \n",
    "    \n",
    "\n",
    "    \n",
    "    list_of_artists = artists\n",
    "    pred_artist_col = ArtistCollection(get_artist(list_of_artists, sp))\n",
    "    \n",
    "    recommendations = []\n",
    "    recommendations.append(sp.recommendations(\\\n",
    "                       seed_artists=pred_artist_col.seed_artists, \\\n",
    "                       seed_genres=pred_artist_col.seed_genres[:1], \\\n",
    "                       seed_tracks=pred_artist_col.seed_tracks, limit=lim))\n",
    "    \n",
    "    return recommendations"
   ]
  },
  {
   "cell_type": "code",
   "execution_count": 4,
   "metadata": {},
   "outputs": [],
   "source": [
    "# client_id, client_secret"
   ]
  },
  {
   "cell_type": "code",
   "execution_count": 5,
   "metadata": {},
   "outputs": [],
   "source": [
    "# %env SPOTIPY_CLIENT_ID=f\"{client_id}\"\n",
    "# %env SPOTIPY_CLIENT_SECRET=f\"{client_secret}\""
   ]
  },
  {
   "cell_type": "code",
   "execution_count": 6,
   "metadata": {},
   "outputs": [],
   "source": [
    "# To create (client_id, client_secret) -> Tuple (str) \n",
    "# with open('spotify_client.txt', 'wb') as f:\n",
    "#     pkl.dump((client_id, client_secret, oauth_token), f)"
   ]
  },
  {
   "cell_type": "code",
   "execution_count": 6,
   "metadata": {},
   "outputs": [],
   "source": [
    "scope = \"user-library-read\"\n",
    "username = \"Arth\"\n",
    "redirect_url = 'http://127.0.0.1:9090'"
   ]
  },
  {
   "cell_type": "code",
   "execution_count": 8,
   "metadata": {},
   "outputs": [
    {
     "ename": "AssertionError",
     "evalue": "Username must be string",
     "output_type": "error",
     "traceback": [
      "\u001b[0;31m---------------------------------------------------------------------------\u001b[0m",
      "\u001b[0;31mAssertionError\u001b[0m                            Traceback (most recent call last)",
      "\u001b[0;32m<ipython-input-8-20e035d65e5f>\u001b[0m in \u001b[0;36m<module>\u001b[0;34m\u001b[0m\n\u001b[0;32m----> 1\u001b[0;31m \u001b[0msp\u001b[0m \u001b[0;34m=\u001b[0m \u001b[0mget_spotify_token\u001b[0m\u001b[0;34m(\u001b[0m\u001b[0;36m1\u001b[0m\u001b[0;34m,\u001b[0m \u001b[0mscope\u001b[0m\u001b[0;34m,\u001b[0m \u001b[0mredirect_url\u001b[0m\u001b[0;34m,\u001b[0m \u001b[0mclient_id\u001b[0m\u001b[0;34m,\u001b[0m\u001b[0mclient_secret\u001b[0m\u001b[0;34m)\u001b[0m\u001b[0;34m\u001b[0m\u001b[0;34m\u001b[0m\u001b[0m\n\u001b[0m",
      "\u001b[0;32m<ipython-input-5-109c6a31af7d>\u001b[0m in \u001b[0;36mget_spotify_token\u001b[0;34m(username, scope, redirect_url, client_id, client_secret)\u001b[0m\n\u001b[1;32m      9\u001b[0m     \u001b[0mclient_secret\u001b[0m\u001b[0;34m:\u001b[0m \u001b[0mClient\u001b[0m \u001b[0mSecret\u001b[0m \u001b[0;34m-\u001b[0m \u001b[0mString\u001b[0m\u001b[0;34m\u001b[0m\u001b[0;34m\u001b[0m\u001b[0m\n\u001b[1;32m     10\u001b[0m     '''\n\u001b[0;32m---> 11\u001b[0;31m     \u001b[0;32massert\u001b[0m \u001b[0misinstance\u001b[0m\u001b[0;34m(\u001b[0m\u001b[0musername\u001b[0m\u001b[0;34m,\u001b[0m \u001b[0mstr\u001b[0m\u001b[0;34m)\u001b[0m\u001b[0;34m,\u001b[0m \u001b[0;34m\"Username must be string\"\u001b[0m\u001b[0;34m\u001b[0m\u001b[0;34m\u001b[0m\u001b[0m\n\u001b[0m\u001b[1;32m     12\u001b[0m     \u001b[0;32massert\u001b[0m \u001b[0misinstance\u001b[0m\u001b[0;34m(\u001b[0m\u001b[0mscope\u001b[0m\u001b[0;34m,\u001b[0m \u001b[0mstr\u001b[0m\u001b[0;34m)\u001b[0m\u001b[0;34m,\u001b[0m \u001b[0;34m\"Scope must be string\"\u001b[0m\u001b[0;34m\u001b[0m\u001b[0;34m\u001b[0m\u001b[0m\n\u001b[1;32m     13\u001b[0m     \u001b[0;32massert\u001b[0m \u001b[0misinstance\u001b[0m\u001b[0;34m(\u001b[0m\u001b[0mclient_id\u001b[0m\u001b[0;34m,\u001b[0m \u001b[0mstr\u001b[0m\u001b[0;34m)\u001b[0m\u001b[0;34m,\u001b[0m \u001b[0;34m\"client id must be string\"\u001b[0m\u001b[0;34m\u001b[0m\u001b[0;34m\u001b[0m\u001b[0m\n",
      "\u001b[0;31mAssertionError\u001b[0m: Username must be string"
     ]
    }
   ],
   "source": [
    "sp = get_spotify_token(username, scope, redirect_url, client_id,client_secret)"
   ]
  },
  {
   "cell_type": "code",
   "execution_count": null,
   "metadata": {},
   "outputs": [],
   "source": []
  },
  {
   "cell_type": "code",
   "execution_count": 11,
   "metadata": {},
   "outputs": [],
   "source": [
    "em = get_artist(['Eminem'], sp)"
   ]
  },
  {
   "cell_type": "code",
   "execution_count": 12,
   "metadata": {},
   "outputs": [
    {
     "data": {
      "text/plain": [
       "'Godzilla (feat. Juice WRLD)'"
      ]
     },
     "execution_count": 12,
     "metadata": {},
     "output_type": "execute_result"
    }
   ],
   "source": [
    "em[0]._track_name"
   ]
  },
  {
   "cell_type": "code",
   "execution_count": 13,
   "metadata": {},
   "outputs": [
    {
     "data": {
      "text/plain": [
       "14"
      ]
     },
     "execution_count": 13,
     "metadata": {},
     "output_type": "execute_result"
    }
   ],
   "source": [
    "features = ['acousticness',\n",
    " 'danceability',\n",
    " 'duration_ms',\n",
    " 'energy',\n",
    " 'explicit',\n",
    " 'instrumentalness',\n",
    " 'key',\n",
    " 'liveness',\n",
    " 'loudness',\n",
    " 'mode',\n",
    " 'popularity',\n",
    " 'speechiness',\n",
    " 'tempo',\n",
    " 'valence',]\n",
    "\n",
    "len(features)"
   ]
  },
  {
   "cell_type": "code",
   "execution_count": 14,
   "metadata": {},
   "outputs": [],
   "source": [
    "get_features(em[0], sp, features)"
   ]
  },
  {
   "cell_type": "code",
   "execution_count": 15,
   "metadata": {},
   "outputs": [
    {
     "data": {
      "text/plain": [
       "{'danceability': 0.808,\n",
       " 'energy': 0.745,\n",
       " 'key': 10,\n",
       " 'loudness': -5.26,\n",
       " 'mode': 0,\n",
       " 'speechiness': 0.342,\n",
       " 'acousticness': 0.145,\n",
       " 'instrumentalness': 0,\n",
       " 'liveness': 0.292,\n",
       " 'valence': 0.829,\n",
       " 'tempo': 165.995,\n",
       " 'type': 'audio_features',\n",
       " 'id': '7FIWs0pqAYbP91WWM0vlTQ',\n",
       " 'uri': 'spotify:track:7FIWs0pqAYbP91WWM0vlTQ',\n",
       " 'track_href': 'https://api.spotify.com/v1/tracks/7FIWs0pqAYbP91WWM0vlTQ',\n",
       " 'analysis_url': 'https://api.spotify.com/v1/audio-analysis/7FIWs0pqAYbP91WWM0vlTQ',\n",
       " 'duration_ms': 210800,\n",
       " 'time_signature': 4}"
      ]
     },
     "execution_count": 15,
     "metadata": {},
     "output_type": "execute_result"
    }
   ],
   "source": [
    "sp.audio_features(em[0]._track_id)[0]"
   ]
  },
  {
   "cell_type": "code",
   "execution_count": 16,
   "metadata": {},
   "outputs": [],
   "source": [
    "temp = sp.audio_analysis(em[0]._track_id)"
   ]
  },
  {
   "cell_type": "code",
   "execution_count": 17,
   "metadata": {},
   "outputs": [],
   "source": [
    "artists = ArtistCollection(get_artist(['Drake', 'The Weeknd'], sp))"
   ]
  },
  {
   "cell_type": "code",
   "execution_count": 18,
   "metadata": {},
   "outputs": [
    {
     "data": {
      "text/plain": [
       "['3TVXtAsR1Inumwj472S9r4', '1Xyo4u8uXC1ZmMpatF05PJ']"
      ]
     },
     "execution_count": 18,
     "metadata": {},
     "output_type": "execute_result"
    }
   ],
   "source": [
    "artists.seed_artists"
   ]
  },
  {
   "cell_type": "code",
   "execution_count": 19,
   "metadata": {},
   "outputs": [
    {
     "data": {
      "text/plain": [
       "['canadian hip hop',\n",
       " 'canadian pop',\n",
       " 'hip hop',\n",
       " 'pop rap',\n",
       " 'rap',\n",
       " 'toronto rap',\n",
       " 'canadian contemporary r&b',\n",
       " 'canadian pop',\n",
       " 'pop']"
      ]
     },
     "execution_count": 19,
     "metadata": {},
     "output_type": "execute_result"
    }
   ],
   "source": [
    "artists.seed_genres"
   ]
  },
  {
   "cell_type": "code",
   "execution_count": 20,
   "metadata": {},
   "outputs": [
    {
     "data": {
      "text/plain": [
       "93"
      ]
     },
     "execution_count": 20,
     "metadata": {},
     "output_type": "execute_result"
    }
   ],
   "source": [
    "artists.artists[0]._pop"
   ]
  },
  {
   "cell_type": "code",
   "execution_count": 23,
   "metadata": {},
   "outputs": [],
   "source": [
    "rec = get_recommendations('', sp, lim=lim)"
   ]
  },
  {
   "cell_type": "code",
   "execution_count": 24,
   "metadata": {},
   "outputs": [
    {
     "data": {
      "text/html": [
       "<h1> <b>Artist:</b> Dreamville\t </h1> <h2> <b>Album:</b> Revenge Of The Dreamers III </h2> <br> <img src='https://i.scdn.co/image/ab67616d00001e02c0ae820e3b64854de4642101'> <br> <audio controls><source src='None' type='audio/ogg'> </audio>"
      ],
      "text/plain": [
       "<IPython.core.display.HTML object>"
      ]
     },
     "metadata": {},
     "output_type": "display_data"
    },
    {
     "data": {
      "text/html": [
       "<hr></hr>"
      ],
      "text/plain": [
       "<IPython.core.display.HTML object>"
      ]
     },
     "metadata": {},
     "output_type": "display_data"
    },
    {
     "data": {
      "text/html": [
       "<h1> <b>Artist:</b> Alina Baraz\t </h1> <h2> <b>Album:</b> The Color Of You </h2> <br> <img src='https://i.scdn.co/image/ab67616d00001e023c054a9aaef660a1fabf87aa'> <br> <audio controls><source src='https://p.scdn.co/mp3-preview/2d32ed236742e2b3974aea15fe8cf806ee2e5e00?cid=954f6f08ec5b452fa503be7526e23b98' type='audio/ogg'> </audio>"
      ],
      "text/plain": [
       "<IPython.core.display.HTML object>"
      ]
     },
     "metadata": {},
     "output_type": "display_data"
    },
    {
     "data": {
      "text/html": [
       "<hr></hr>"
      ],
      "text/plain": [
       "<IPython.core.display.HTML object>"
      ]
     },
     "metadata": {},
     "output_type": "display_data"
    },
    {
     "data": {
      "text/html": [
       "<h1> <b>Artist:</b> Young Thug\t </h1> <h2> <b>Album:</b> So Much Fun </h2> <br> <img src='https://i.scdn.co/image/ab67616d00001e026fcd1b6e205d0d19d9efa0cc'> <br> <audio controls><source src='https://p.scdn.co/mp3-preview/5e3e588bb03b860c16785f51b03089a5797ca80c?cid=954f6f08ec5b452fa503be7526e23b98' type='audio/ogg'> </audio>"
      ],
      "text/plain": [
       "<IPython.core.display.HTML object>"
      ]
     },
     "metadata": {},
     "output_type": "display_data"
    },
    {
     "data": {
      "text/html": [
       "<hr></hr>"
      ],
      "text/plain": [
       "<IPython.core.display.HTML object>"
      ]
     },
     "metadata": {},
     "output_type": "display_data"
    },
    {
     "data": {
      "text/html": [
       "<h1> <b>Artist:</b> KIDS SEE GHOSTS\t </h1> <h2> <b>Album:</b> KIDS SEE GHOSTS </h2> <br> <img src='https://i.scdn.co/image/ab67616d00001e02013c00ee367dd85396f79c82'> <br> <audio controls><source src='None' type='audio/ogg'> </audio>"
      ],
      "text/plain": [
       "<IPython.core.display.HTML object>"
      ]
     },
     "metadata": {},
     "output_type": "display_data"
    },
    {
     "data": {
      "text/html": [
       "<hr></hr>"
      ],
      "text/plain": [
       "<IPython.core.display.HTML object>"
      ]
     },
     "metadata": {},
     "output_type": "display_data"
    },
    {
     "data": {
      "text/html": [
       "<h1> <b>Artist:</b> Kehlani\t </h1> <h2> <b>Album:</b> It Was Good Until It Wasn't </h2> <br> <img src='https://i.scdn.co/image/ab67616d00001e023ba8dc55c81f0aaf819057e9'> <br> <audio controls><source src='https://p.scdn.co/mp3-preview/6d4ae4400c11c5b2d5a16f17d5f3c5cea506d0e2?cid=954f6f08ec5b452fa503be7526e23b98' type='audio/ogg'> </audio>"
      ],
      "text/plain": [
       "<IPython.core.display.HTML object>"
      ]
     },
     "metadata": {},
     "output_type": "display_data"
    },
    {
     "data": {
      "text/html": [
       "<hr></hr>"
      ],
      "text/plain": [
       "<IPython.core.display.HTML object>"
      ]
     },
     "metadata": {},
     "output_type": "display_data"
    }
   ],
   "source": [
    "display(HTML(\"<hr></hr>\"))\n",
    "for i in range(0, lim):\n",
    "    display(HTML(f\"<h1> <b>Artist:</b> {rec[0]['tracks'][i]['artists'][0]['name']}\\t </h1> <h2> <b>Album:</b> {rec[0]['tracks'][i]['album']['name']} </h2> <br> <img src='{rec[0]['tracks'][i]['album']['images'][1]['url']}'> <br> <audio controls><source src='{rec[0]['tracks'][i]['preview_url']}' type='audio/ogg'> </audio>\"))\n",
    "    display(HTML(\"<hr></hr>\"))"
   ]
  },
  {
   "cell_type": "code",
   "execution_count": null,
   "metadata": {},
   "outputs": [],
   "source": []
  }
 ],
 "metadata": {
  "kernelspec": {
   "display_name": "env",
   "language": "python",
   "name": "env"
  },
  "language_info": {
   "codemirror_mode": {
    "name": "ipython",
    "version": 3
   },
   "file_extension": ".py",
   "mimetype": "text/x-python",
   "name": "python",
   "nbconvert_exporter": "python",
   "pygments_lexer": "ipython3",
   "version": "3.7.6"
  }
 },
 "nbformat": 4,
 "nbformat_minor": 4
}
