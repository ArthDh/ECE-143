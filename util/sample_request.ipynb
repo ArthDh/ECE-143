{
 "cells": [
  {
   "cell_type": "code",
   "execution_count": 1,
   "metadata": {},
   "outputs": [],
   "source": [
    "# https://spotipy.readthedocs.io/en/2.16.1/\n",
    "# https://developer.spotify.com/console/get-audio-features-track/?id=06AKEBrKUckW0KREUWRnvT"
   ]
  },
  {
   "cell_type": "code",
   "execution_count": 17,
   "metadata": {},
   "outputs": [],
   "source": [
    "import spotipy\n",
    "from spotipy.oauth2 import SpotifyOAuth\n",
    "import spotipy.util as util\n",
    "import pickle as pkl\n",
    "import requests"
   ]
  },
  {
   "cell_type": "code",
   "execution_count": 18,
   "metadata": {},
   "outputs": [],
   "source": [
    "with open('spotify_client.txt', 'rb') as f:\n",
    "    (client_id, client_secret, oauth_token) = pkl.load(f)"
   ]
  },
  {
   "cell_type": "code",
   "execution_count": 19,
   "metadata": {},
   "outputs": [],
   "source": [
    "# client_id, client_secret"
   ]
  },
  {
   "cell_type": "code",
   "execution_count": 20,
   "metadata": {},
   "outputs": [],
   "source": [
    "# %env SPOTIPY_CLIENT_ID=f\"{client_id}\"\n",
    "# %env SPOTIPY_CLIENT_SECRET=f\"{client_secret}\""
   ]
  },
  {
   "cell_type": "code",
   "execution_count": 21,
   "metadata": {},
   "outputs": [],
   "source": [
    "# To create (client_id, client_secret) -> Tuple (str) \n",
    "# with open('spotify_client.txt', 'wb') as f:\n",
    "#     pkl.dump((client_id, client_secret, oauth_token), f)"
   ]
  },
  {
   "cell_type": "code",
   "execution_count": 22,
   "metadata": {},
   "outputs": [],
   "source": [
    "scope = \"user-library-read\"\n",
    "username = \"Arth\"\n",
    "redirect_url = 'http://127.0.0.1:9090'"
   ]
  },
  {
   "cell_type": "code",
   "execution_count": 25,
   "metadata": {},
   "outputs": [
    {
     "name": "stdout",
     "output_type": "stream",
     "text": [
      "Token acquired for:  Arth\n"
     ]
    }
   ],
   "source": [
    "token = util.prompt_for_user_token(username, scope, client_id,client_secret,redirect_url)\n",
    "\n",
    "if token:\n",
    "    sp = spotipy.Spotify(auth=token)\n",
    "    print(\"Token acquired for: \",username)\n",
    "else:\n",
    "    print(\"Can't get token for\", username)"
   ]
  },
  {
   "cell_type": "code",
   "execution_count": 24,
   "metadata": {},
   "outputs": [
    {
     "name": "stdout",
     "output_type": "stream",
     "text": [
      "0 dict_keys(['album', 'artists', 'available_markets', 'disc_number', 'duration_ms', 'explicit', 'external_ids', 'external_urls', 'href', 'id', 'is_local', 'name', 'popularity', 'preview_url', 'track_number', 'type', 'uri'])\n"
     ]
    }
   ],
   "source": [
    "# sp = spotipy.Spotify(auth_manager=SpotifyOAuth(scope=scope))\n",
    "\n",
    "results = sp.search(q='Beatles', limit=20)\n",
    "for idx, track in enumerate(results['tracks']['items']):\n",
    "    print(idx, track.keys())\n",
    "    break"
   ]
  },
  {
   "cell_type": "code",
   "execution_count": 11,
   "metadata": {},
   "outputs": [],
   "source": [
    "q = results['tracks']['items'][0]['id']"
   ]
  },
  {
   "cell_type": "code",
   "execution_count": 12,
   "metadata": {},
   "outputs": [],
   "source": [
    "headers = {'content-type': 'application/json', 'Accept-Charset': 'UTF-8', \"Authorization\": f'Bearer {token}' }"
   ]
  },
  {
   "cell_type": "code",
   "execution_count": 13,
   "metadata": {},
   "outputs": [],
   "source": [
    "r = requests.get(f\"https://api.spotify.com/v1/audio-features/{q}\", headers= headers)"
   ]
  },
  {
   "cell_type": "code",
   "execution_count": 14,
   "metadata": {},
   "outputs": [
    {
     "data": {
      "text/plain": [
       "{'danceability': 0.557,\n",
       " 'energy': 0.54,\n",
       " 'key': 9,\n",
       " 'loudness': -10.484,\n",
       " 'mode': 1,\n",
       " 'speechiness': 0.0347,\n",
       " 'acousticness': 0.0339,\n",
       " 'instrumentalness': 0.00248,\n",
       " 'liveness': 0.179,\n",
       " 'valence': 0.394,\n",
       " 'tempo': 129.171,\n",
       " 'type': 'audio_features',\n",
       " 'id': '6dGnYIeXmHdcikdzNNDMm2',\n",
       " 'uri': 'spotify:track:6dGnYIeXmHdcikdzNNDMm2',\n",
       " 'track_href': 'https://api.spotify.com/v1/tracks/6dGnYIeXmHdcikdzNNDMm2',\n",
       " 'analysis_url': 'https://api.spotify.com/v1/audio-analysis/6dGnYIeXmHdcikdzNNDMm2',\n",
       " 'duration_ms': 185733,\n",
       " 'time_signature': 4}"
      ]
     },
     "execution_count": 14,
     "metadata": {},
     "output_type": "execute_result"
    }
   ],
   "source": [
    "r.json()"
   ]
  },
  {
   "cell_type": "code",
   "execution_count": null,
   "metadata": {},
   "outputs": [],
   "source": []
  }
 ],
 "metadata": {
  "kernelspec": {
   "display_name": "env",
   "language": "python",
   "name": "env"
  },
  "language_info": {
   "codemirror_mode": {
    "name": "ipython",
    "version": 3
   },
   "file_extension": ".py",
   "mimetype": "text/x-python",
   "name": "python",
   "nbconvert_exporter": "python",
   "pygments_lexer": "ipython3",
   "version": "3.7.6"
  }
 },
 "nbformat": 4,
 "nbformat_minor": 4
}
