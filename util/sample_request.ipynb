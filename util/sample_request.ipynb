{
 "cells": [
  {
   "cell_type": "code",
   "execution_count": 3,
   "metadata": {},
   "outputs": [],
   "source": [
    "# https://spotipy.readthedocs.io/en/2.16.1/\n",
    "# https://developer.spotify.com/console/get-audio-features-track/?id=06AKEBrKUckW0KREUWRnvT"
   ]
  },
  {
   "cell_type": "code",
   "execution_count": 142,
   "metadata": {},
   "outputs": [],
   "source": [
    "from spotify_interface import *\n",
    "import sys\n",
    "import time\n",
    "from IPython.display import display,HTML,clear_output"
   ]
  },
  {
   "cell_type": "code",
   "execution_count": 5,
   "metadata": {},
   "outputs": [],
   "source": [
    "with open('spotify_client.txt', 'rb') as f:\n",
    "    (client_id, client_secret, oauth_token) = pkl.load(f)"
   ]
  },
  {
   "cell_type": "code",
   "execution_count": 6,
   "metadata": {},
   "outputs": [],
   "source": [
    "# client_id, client_secret"
   ]
  },
  {
   "cell_type": "code",
   "execution_count": 7,
   "metadata": {},
   "outputs": [],
   "source": [
    "# %env SPOTIPY_CLIENT_ID=f\"{client_id}\"\n",
    "# %env SPOTIPY_CLIENT_SECRET=f\"{client_secret}\""
   ]
  },
  {
   "cell_type": "code",
   "execution_count": 8,
   "metadata": {},
   "outputs": [],
   "source": [
    "# To create (client_id, client_secret) -> Tuple (str) \n",
    "# with open('spotify_client.txt', 'wb') as f:\n",
    "#     pkl.dump((client_id, client_secret, oauth_token), f)"
   ]
  },
  {
   "cell_type": "code",
   "execution_count": 9,
   "metadata": {},
   "outputs": [],
   "source": [
    "scope = \"user-library-read\"\n",
    "username = \"Arth\"\n",
    "redirect_url = 'http://127.0.0.1:9090'"
   ]
  },
  {
   "cell_type": "code",
   "execution_count": 10,
   "metadata": {},
   "outputs": [
    {
     "name": "stdout",
     "output_type": "stream",
     "text": [
      "Token acquired for:  Arth\n"
     ]
    }
   ],
   "source": [
    "sp = get_spotify_token(username, scope, redirect_url, client_id,client_secret)"
   ]
  },
  {
   "cell_type": "code",
   "execution_count": null,
   "metadata": {},
   "outputs": [],
   "source": []
  },
  {
   "cell_type": "code",
   "execution_count": 11,
   "metadata": {},
   "outputs": [],
   "source": [
    "em = get_artist(['Eminem'], sp)"
   ]
  },
  {
   "cell_type": "code",
   "execution_count": 12,
   "metadata": {},
   "outputs": [
    {
     "data": {
      "text/plain": [
       "'Godzilla (feat. Juice WRLD)'"
      ]
     },
     "execution_count": 12,
     "metadata": {},
     "output_type": "execute_result"
    }
   ],
   "source": [
    "em[0]._track_name"
   ]
  },
  {
   "cell_type": "code",
   "execution_count": 13,
   "metadata": {},
   "outputs": [
    {
     "data": {
      "text/plain": [
       "14"
      ]
     },
     "execution_count": 13,
     "metadata": {},
     "output_type": "execute_result"
    }
   ],
   "source": [
    "features = ['acousticness',\n",
    " 'danceability',\n",
    " 'duration_ms',\n",
    " 'energy',\n",
    " 'explicit',\n",
    " 'instrumentalness',\n",
    " 'key',\n",
    " 'liveness',\n",
    " 'loudness',\n",
    " 'mode',\n",
    " 'popularity',\n",
    " 'speechiness',\n",
    " 'tempo',\n",
    " 'valence',]\n",
    "\n",
    "len(features)"
   ]
  },
  {
   "cell_type": "code",
   "execution_count": 14,
   "metadata": {},
   "outputs": [
    {
     "data": {
      "text/plain": [
       "{'acousticness': 0.145,\n",
       " 'danceability': 0.808,\n",
       " 'duration_ms': 210800,\n",
       " 'energy': 0.745,\n",
       " 'instrumentalness': 0,\n",
       " 'key': 10,\n",
       " 'liveness': 0.292,\n",
       " 'loudness': -5.26,\n",
       " 'mode': 0,\n",
       " 'speechiness': 0.342,\n",
       " 'tempo': 165.995,\n",
       " 'valence': 0.829,\n",
       " 'popularity': 86}"
      ]
     },
     "execution_count": 14,
     "metadata": {},
     "output_type": "execute_result"
    }
   ],
   "source": [
    "get_features(em[0], sp, features)"
   ]
  },
  {
   "cell_type": "code",
   "execution_count": 15,
   "metadata": {},
   "outputs": [
    {
     "data": {
      "text/plain": [
       "{'danceability': 0.808,\n",
       " 'energy': 0.745,\n",
       " 'key': 10,\n",
       " 'loudness': -5.26,\n",
       " 'mode': 0,\n",
       " 'speechiness': 0.342,\n",
       " 'acousticness': 0.145,\n",
       " 'instrumentalness': 0,\n",
       " 'liveness': 0.292,\n",
       " 'valence': 0.829,\n",
       " 'tempo': 165.995,\n",
       " 'type': 'audio_features',\n",
       " 'id': '7FIWs0pqAYbP91WWM0vlTQ',\n",
       " 'uri': 'spotify:track:7FIWs0pqAYbP91WWM0vlTQ',\n",
       " 'track_href': 'https://api.spotify.com/v1/tracks/7FIWs0pqAYbP91WWM0vlTQ',\n",
       " 'analysis_url': 'https://api.spotify.com/v1/audio-analysis/7FIWs0pqAYbP91WWM0vlTQ',\n",
       " 'duration_ms': 210800,\n",
       " 'time_signature': 4}"
      ]
     },
     "execution_count": 15,
     "metadata": {},
     "output_type": "execute_result"
    }
   ],
   "source": [
    "sp.audio_features(em[0]._track_id)[0]"
   ]
  },
  {
   "cell_type": "code",
   "execution_count": 16,
   "metadata": {},
   "outputs": [],
   "source": [
    "temp = sp.audio_analysis(em[0]._track_id)"
   ]
  },
  {
   "cell_type": "code",
   "execution_count": 18,
   "metadata": {},
   "outputs": [],
   "source": [
    "artists = ArtistCollection(get_artist(['Drake', 'The Weeknd'], sp))"
   ]
  },
  {
   "cell_type": "code",
   "execution_count": 19,
   "metadata": {},
   "outputs": [
    {
     "data": {
      "text/plain": [
       "['3TVXtAsR1Inumwj472S9r4', '1Xyo4u8uXC1ZmMpatF05PJ']"
      ]
     },
     "execution_count": 19,
     "metadata": {},
     "output_type": "execute_result"
    }
   ],
   "source": [
    "artists.seed_artists"
   ]
  },
  {
   "cell_type": "code",
   "execution_count": 20,
   "metadata": {},
   "outputs": [
    {
     "data": {
      "text/plain": [
       "['canadian hip hop',\n",
       " 'canadian pop',\n",
       " 'hip hop',\n",
       " 'pop rap',\n",
       " 'rap',\n",
       " 'toronto rap',\n",
       " 'canadian contemporary r&b',\n",
       " 'canadian pop',\n",
       " 'pop']"
      ]
     },
     "execution_count": 20,
     "metadata": {},
     "output_type": "execute_result"
    }
   ],
   "source": [
    "artists.seed_genres"
   ]
  },
  {
   "cell_type": "code",
   "execution_count": 21,
   "metadata": {},
   "outputs": [
    {
     "data": {
      "text/plain": [
       "93"
      ]
     },
     "execution_count": 21,
     "metadata": {},
     "output_type": "execute_result"
    }
   ],
   "source": [
    "artists.artists[0]._pop"
   ]
  },
  {
   "cell_type": "code",
   "execution_count": 22,
   "metadata": {},
   "outputs": [],
   "source": [
    "def get_recommendations(artist, sp, lim = 1):\n",
    "    # Do forward pass on model with artist\n",
    "    list_of_artists = ['Drake', 'The Weeknd']  # Temp prediction\n",
    "    recs_per_artist = lim//len(list_of_artists)\n",
    "    pred_artist_col = ArtistCollection(get_artist(list_of_artists, sp))\n",
    "    \n",
    "    recommendations = []\n",
    "\n",
    "    recommendations.append(sp.recommendations(\\\n",
    "                       seed_artists=pred_artist_col.seed_artists, \\\n",
    "                       seed_genres=pred_artist_col.seed_genres[:1], \\\n",
    "                       seed_tracks=pred_artist_col.seed_tracks, limit=lim))\n",
    "    return recommendations"
   ]
  },
  {
   "cell_type": "code",
   "execution_count": 143,
   "metadata": {},
   "outputs": [],
   "source": [
    "lim=5"
   ]
  },
  {
   "cell_type": "code",
   "execution_count": 144,
   "metadata": {},
   "outputs": [],
   "source": [
    "rec = get_recommendations('Russ', sp, lim=lim)"
   ]
  },
  {
   "cell_type": "code",
   "execution_count": 145,
   "metadata": {},
   "outputs": [
    {
     "data": {
      "text/html": [
       "<h1> <b>Artist:</b> Jack Harlow\t </h1> <h2> <b>Album:</b> Confetti </h2> <br> <img src='https://i.scdn.co/image/ab67616d00001e0257c38b379fbaa7bfef03934d'> <br> <audio controls><source src='https://p.scdn.co/mp3-preview/8dd809ad424449fbbdb3b1a8feb7106550611284?cid=954f6f08ec5b452fa503be7526e23b98' type='audio/ogg'> </audio>"
      ],
      "text/plain": [
       "<IPython.core.display.HTML object>"
      ]
     },
     "metadata": {},
     "output_type": "display_data"
    },
    {
     "data": {
      "text/html": [
       "<h1> <b>Artist:</b> The Weeknd\t </h1> <h2> <b>Album:</b> Trilogy </h2> <br> <img src='https://i.scdn.co/image/ab67616d00001e02b298538481c52f7e217ed000'> <br> <audio controls><source src='None' type='audio/ogg'> </audio>"
      ],
      "text/plain": [
       "<IPython.core.display.HTML object>"
      ]
     },
     "metadata": {},
     "output_type": "display_data"
    },
    {
     "data": {
      "text/html": [
       "<h1> <b>Artist:</b> Diplo\t </h1> <h2> <b>Album:</b> Diplo Presents Thomas Wesley Chapter 1: Snake Oil </h2> <br> <img src='https://i.scdn.co/image/ab67616d00001e02d79c10cdf4a58309a37d195a'> <br> <audio controls><source src='https://p.scdn.co/mp3-preview/768d19b4d860d9e4451d8d81a1bb0119cc286cd0?cid=954f6f08ec5b452fa503be7526e23b98' type='audio/ogg'> </audio>"
      ],
      "text/plain": [
       "<IPython.core.display.HTML object>"
      ]
     },
     "metadata": {},
     "output_type": "display_data"
    },
    {
     "data": {
      "text/html": [
       "<h1> <b>Artist:</b> Flume\t </h1> <h2> <b>Album:</b> Rushing Back (Petit Biscuit Remix) </h2> <br> <img src='https://i.scdn.co/image/ab67616d00001e0293b5f97d4db358d979546e1a'> <br> <audio controls><source src='https://p.scdn.co/mp3-preview/2de7eadfdfc80b7aafbc88c859e4f904ee47a47f?cid=954f6f08ec5b452fa503be7526e23b98' type='audio/ogg'> </audio>"
      ],
      "text/plain": [
       "<IPython.core.display.HTML object>"
      ]
     },
     "metadata": {},
     "output_type": "display_data"
    },
    {
     "data": {
      "text/html": [
       "<h1> <b>Artist:</b> Drake\t </h1> <h2> <b>Album:</b> If You're Reading This It's Too Late </h2> <br> <img src='https://i.scdn.co/image/ab67616d00001e022090f4f6cc406e6d3c306733'> <br> <audio controls><source src='None' type='audio/ogg'> </audio>"
      ],
      "text/plain": [
       "<IPython.core.display.HTML object>"
      ]
     },
     "metadata": {},
     "output_type": "display_data"
    }
   ],
   "source": [
    "for i in range(0, lim):\n",
    "    display(HTML(f\"<h1> <b>Artist:</b> {rec[0]['tracks'][i]['artists'][0]['name']}\\t </h1> <h2> <b>Album:</b> {rec[0]['tracks'][i]['album']['name']} </h2> <br> <img src='{rec[0]['tracks'][i]['album']['images'][1]['url']}'> <br> <audio controls><source src='{rec[0]['tracks'][i]['preview_url']}' type='audio/ogg'> </audio>\"))"
   ]
  },
  {
   "cell_type": "code",
   "execution_count": null,
   "metadata": {},
   "outputs": [],
   "source": []
  }
 ],
 "metadata": {
  "kernelspec": {
   "display_name": "env",
   "language": "python",
   "name": "env"
  },
  "language_info": {
   "codemirror_mode": {
    "name": "ipython",
    "version": 3
   },
   "file_extension": ".py",
   "mimetype": "text/x-python",
   "name": "python",
   "nbconvert_exporter": "python",
   "pygments_lexer": "ipython3",
   "version": "3.7.6"
  }
 },
 "nbformat": 4,
 "nbformat_minor": 4
}
