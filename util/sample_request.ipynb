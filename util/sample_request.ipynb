{
 "cells": [
  {
   "cell_type": "code",
   "execution_count": null,
   "metadata": {},
   "outputs": [],
   "source": [
    "# https://spotipy.readthedocs.io/en/2.16.1/\n",
    "# https://developer.spotify.com/console/get-audio-features-track/?id=06AKEBrKUckW0KREUWRnvT"
   ]
  },
  {
   "cell_type": "code",
   "execution_count": 46,
   "metadata": {},
   "outputs": [],
   "source": [
    "import spotipy\n",
    "from spotipy.oauth2 import SpotifyClientCredentials\n",
    "import pickle as pkl\n",
    "import requests"
   ]
  },
  {
   "cell_type": "code",
   "execution_count": 65,
   "metadata": {},
   "outputs": [],
   "source": [
    "with open('spotify_client.txt', 'rb') as f:\n",
    "    (client_id, client_secret, oauth_token) = pkl.load(f)"
   ]
  },
  {
   "cell_type": "code",
   "execution_count": 66,
   "metadata": {},
   "outputs": [
    {
     "data": {
      "text/plain": [
       "('954f6f08ec5b452fa503be7526e23b98',\n",
       " '6dc1e0ed11f049a98fa3a787489d84af',\n",
       " 'BQDSNiut0JcMpLjCujKmvLCG9HAC0Dz3DlV5ruyoCJATjP7CWDRDe3jrgzjk2_GFMLeAd8DJLjQfT5zuMVq5V6czKTbgMPX9lBBQ8svSCUTZahdpp15b9_b2K1rvAkzEaiOHTExWvzYVWJSHyqkNvsaU2QIz1ug')"
      ]
     },
     "execution_count": 66,
     "metadata": {},
     "output_type": "execute_result"
    }
   ],
   "source": [
    "client_id, client_secret, oauth_token"
   ]
  },
  {
   "cell_type": "code",
   "execution_count": 63,
   "metadata": {},
   "outputs": [],
   "source": [
    "oauth_token = 'BQDSNiut0JcMpLjCujKmvLCG9HAC0Dz3DlV5ruyoCJATjP7CWDRDe3jrgzjk2_GFMLeAd8DJLjQfT5zuMVq5V6czKTbgMPX9lBBQ8svSCUTZahdpp15b9_b2K1rvAkzEaiOHTExWvzYVWJSHyqkNvsaU2QIz1ug'"
   ]
  },
  {
   "cell_type": "code",
   "execution_count": 67,
   "metadata": {},
   "outputs": [],
   "source": [
    "# To create (client_id, client_secret) -> Tuple (str) \n",
    "# with open('spotify_client.txt', 'wb') as f:\n",
    "#     pkl.dump((client_id, client_secret, oauth_token), f)"
   ]
  },
  {
   "cell_type": "code",
   "execution_count": 68,
   "metadata": {},
   "outputs": [
    {
     "name": "stdout",
     "output_type": "stream",
     "text": [
      "0 dict_keys(['album', 'artists', 'available_markets', 'disc_number', 'duration_ms', 'explicit', 'external_ids', 'external_urls', 'href', 'id', 'is_local', 'name', 'popularity', 'preview_url', 'track_number', 'type', 'uri'])\n"
     ]
    }
   ],
   "source": [
    "sp = spotipy.Spotify(auth_manager=SpotifyClientCredentials(client_id=client_id,\n",
    "                                                           client_secret=client_secret))\n",
    "\n",
    "results = sp.search(q='Beatles', limit=20)\n",
    "for idx, track in enumerate(results['tracks']['items']):\n",
    "    print(idx, track.keys())\n",
    "    break"
   ]
  },
  {
   "cell_type": "code",
   "execution_count": 69,
   "metadata": {},
   "outputs": [],
   "source": [
    "q = results['tracks']['items'][0]['id']"
   ]
  },
  {
   "cell_type": "code",
   "execution_count": 70,
   "metadata": {},
   "outputs": [],
   "source": [
    "headers = {'content-type': 'application/json', 'Accept-Charset': 'UTF-8', \"Authorization\": f'Bearer {oauth_token}' }"
   ]
  },
  {
   "cell_type": "code",
   "execution_count": 71,
   "metadata": {},
   "outputs": [],
   "source": [
    "r = requests.get(f\"https://api.spotify.com/v1/audio-features/{q}\", headers= headers)"
   ]
  },
  {
   "cell_type": "code",
   "execution_count": 72,
   "metadata": {},
   "outputs": [
    {
     "data": {
      "text/plain": [
       "{'danceability': 0.557,\n",
       " 'energy': 0.54,\n",
       " 'key': 9,\n",
       " 'loudness': -10.484,\n",
       " 'mode': 1,\n",
       " 'speechiness': 0.0347,\n",
       " 'acousticness': 0.0339,\n",
       " 'instrumentalness': 0.00248,\n",
       " 'liveness': 0.179,\n",
       " 'valence': 0.394,\n",
       " 'tempo': 129.171,\n",
       " 'type': 'audio_features',\n",
       " 'id': '6dGnYIeXmHdcikdzNNDMm2',\n",
       " 'uri': 'spotify:track:6dGnYIeXmHdcikdzNNDMm2',\n",
       " 'track_href': 'https://api.spotify.com/v1/tracks/6dGnYIeXmHdcikdzNNDMm2',\n",
       " 'analysis_url': 'https://api.spotify.com/v1/audio-analysis/6dGnYIeXmHdcikdzNNDMm2',\n",
       " 'duration_ms': 185733,\n",
       " 'time_signature': 4}"
      ]
     },
     "execution_count": 72,
     "metadata": {},
     "output_type": "execute_result"
    }
   ],
   "source": [
    "r.json()"
   ]
  }
 ],
 "metadata": {
  "kernelspec": {
   "display_name": "env",
   "language": "python",
   "name": "env"
  },
  "language_info": {
   "codemirror_mode": {
    "name": "ipython",
    "version": 3
   },
   "file_extension": ".py",
   "mimetype": "text/x-python",
   "name": "python",
   "nbconvert_exporter": "python",
   "pygments_lexer": "ipython3",
   "version": "3.7.6"
  }
 },
 "nbformat": 4,
 "nbformat_minor": 4
}
