{
 "cells": [
  {
   "cell_type": "code",
   "execution_count": null,
   "metadata": {},
   "outputs": [],
   "source": [
    "# https://spotipy.readthedocs.io/en/2.16.1/\n",
    "# https://developer.spotify.com/console/get-audio-features-track/?id=06AKEBrKUckW0KREUWRnvT"
   ]
  },
  {
   "cell_type": "code",
   "execution_count": 1,
   "metadata": {},
   "outputs": [],
   "source": [
    "from spotify_interface import *"
   ]
  },
  {
   "cell_type": "code",
   "execution_count": 2,
   "metadata": {},
   "outputs": [],
   "source": [
    "with open('spotify_client.txt', 'rb') as f:\n",
    "    (client_id, client_secret, oauth_token) = pkl.load(f)"
   ]
  },
  {
   "cell_type": "code",
   "execution_count": 3,
   "metadata": {},
   "outputs": [],
   "source": [
    "# client_id, client_secret"
   ]
  },
  {
   "cell_type": "code",
   "execution_count": 4,
   "metadata": {},
   "outputs": [],
   "source": [
    "# %env SPOTIPY_CLIENT_ID=f\"{client_id}\"\n",
    "# %env SPOTIPY_CLIENT_SECRET=f\"{client_secret}\""
   ]
  },
  {
   "cell_type": "code",
   "execution_count": 5,
   "metadata": {},
   "outputs": [],
   "source": [
    "# To create (client_id, client_secret) -> Tuple (str) \n",
    "# with open('spotify_client.txt', 'wb') as f:\n",
    "#     pkl.dump((client_id, client_secret, oauth_token), f)"
   ]
  },
  {
   "cell_type": "code",
   "execution_count": 6,
   "metadata": {},
   "outputs": [],
   "source": [
    "scope = \"user-library-read\"\n",
    "username = \"Arth\"\n",
    "redirect_url = 'http://127.0.0.1:9090'"
   ]
  },
  {
   "cell_type": "code",
   "execution_count": 8,
   "metadata": {},
   "outputs": [
    {
     "name": "stdout",
     "output_type": "stream",
     "text": [
      "Token acquired for:  Arth\n"
     ]
    }
   ],
   "source": [
    "sp = get_spotify_token(username, scope, redirect_url, client_id,client_secret)"
   ]
  },
  {
   "cell_type": "code",
   "execution_count": 13,
   "metadata": {},
   "outputs": [],
   "source": [
    "artists = ArtistCollection(get_artist(['Drake', 'The Weeknd'], sp))"
   ]
  },
  {
   "cell_type": "code",
   "execution_count": 14,
   "metadata": {},
   "outputs": [
    {
     "data": {
      "text/plain": [
       "['3TVXtAsR1Inumwj472S9r4', '1Xyo4u8uXC1ZmMpatF05PJ']"
      ]
     },
     "execution_count": 14,
     "metadata": {},
     "output_type": "execute_result"
    }
   ],
   "source": [
    "artists.seed_artists"
   ]
  },
  {
   "cell_type": "code",
   "execution_count": 15,
   "metadata": {},
   "outputs": [
    {
     "data": {
      "text/plain": [
       "['canadian hip hop',\n",
       " 'canadian pop',\n",
       " 'hip hop',\n",
       " 'pop rap',\n",
       " 'rap',\n",
       " 'toronto rap',\n",
       " 'canadian contemporary r&b',\n",
       " 'canadian pop',\n",
       " 'pop']"
      ]
     },
     "execution_count": 15,
     "metadata": {},
     "output_type": "execute_result"
    }
   ],
   "source": [
    "artists.seed_genres"
   ]
  },
  {
   "cell_type": "code",
   "execution_count": 16,
   "metadata": {},
   "outputs": [
    {
     "data": {
      "text/plain": [
       "['2SAqBLGA283SUiwJ3xOUVI', '0VjIjW4GlUZAMYd2vXMi3b']"
      ]
     },
     "execution_count": 16,
     "metadata": {},
     "output_type": "execute_result"
    }
   ],
   "source": [
    "artists.seed_tracks"
   ]
  },
  {
   "cell_type": "code",
   "execution_count": 17,
   "metadata": {},
   "outputs": [
    {
     "data": {
      "text/plain": [
       "[{'tracks': [{'album': {'album_type': 'ALBUM',\n",
       "     'artists': [{'external_urls': {'spotify': 'https://open.spotify.com/artist/1Bl6wpkWCQ4KVgnASpvzzA'},\n",
       "       'href': 'https://api.spotify.com/v1/artists/1Bl6wpkWCQ4KVgnASpvzzA',\n",
       "       'id': '1Bl6wpkWCQ4KVgnASpvzzA',\n",
       "       'name': 'BROCKHAMPTON',\n",
       "       'type': 'artist',\n",
       "       'uri': 'spotify:artist:1Bl6wpkWCQ4KVgnASpvzzA'}],\n",
       "     'available_markets': ['AD',\n",
       "      'AE',\n",
       "      'AL',\n",
       "      'AR',\n",
       "      'AT',\n",
       "      'AU',\n",
       "      'BA',\n",
       "      'BE',\n",
       "      'BG',\n",
       "      'BH',\n",
       "      'BO',\n",
       "      'BR',\n",
       "      'BY',\n",
       "      'CA',\n",
       "      'CH',\n",
       "      'CL',\n",
       "      'CO',\n",
       "      'CR',\n",
       "      'CY',\n",
       "      'CZ',\n",
       "      'DE',\n",
       "      'DK',\n",
       "      'DO',\n",
       "      'DZ',\n",
       "      'EC',\n",
       "      'EE',\n",
       "      'EG',\n",
       "      'ES',\n",
       "      'FI',\n",
       "      'FR',\n",
       "      'GB',\n",
       "      'GR',\n",
       "      'GT',\n",
       "      'HK',\n",
       "      'HN',\n",
       "      'HR',\n",
       "      'HU',\n",
       "      'ID',\n",
       "      'IE',\n",
       "      'IL',\n",
       "      'IN',\n",
       "      'IS',\n",
       "      'IT',\n",
       "      'JO',\n",
       "      'JP',\n",
       "      'KW',\n",
       "      'KZ',\n",
       "      'LB',\n",
       "      'LI',\n",
       "      'LT',\n",
       "      'LU',\n",
       "      'LV',\n",
       "      'MA',\n",
       "      'MC',\n",
       "      'MD',\n",
       "      'ME',\n",
       "      'MK',\n",
       "      'MT',\n",
       "      'MX',\n",
       "      'MY',\n",
       "      'NI',\n",
       "      'NL',\n",
       "      'NO',\n",
       "      'NZ',\n",
       "      'OM',\n",
       "      'PA',\n",
       "      'PE',\n",
       "      'PH',\n",
       "      'PL',\n",
       "      'PS',\n",
       "      'PT',\n",
       "      'PY',\n",
       "      'QA',\n",
       "      'RO',\n",
       "      'RS',\n",
       "      'RU',\n",
       "      'SA',\n",
       "      'SE',\n",
       "      'SG',\n",
       "      'SI',\n",
       "      'SK',\n",
       "      'SV',\n",
       "      'TH',\n",
       "      'TN',\n",
       "      'TR',\n",
       "      'TW',\n",
       "      'UA',\n",
       "      'US',\n",
       "      'UY',\n",
       "      'VN',\n",
       "      'XK',\n",
       "      'ZA'],\n",
       "     'external_urls': {'spotify': 'https://open.spotify.com/album/67smHJOf5YlFwad6dAlppm'},\n",
       "     'href': 'https://api.spotify.com/v1/albums/67smHJOf5YlFwad6dAlppm',\n",
       "     'id': '67smHJOf5YlFwad6dAlppm',\n",
       "     'images': [{'height': 640,\n",
       "       'url': 'https://i.scdn.co/image/ab67616d0000b273a0c4a585a7d73b4943b9bf13',\n",
       "       'width': 640},\n",
       "      {'height': 300,\n",
       "       'url': 'https://i.scdn.co/image/ab67616d00001e02a0c4a585a7d73b4943b9bf13',\n",
       "       'width': 300},\n",
       "      {'height': 64,\n",
       "       'url': 'https://i.scdn.co/image/ab67616d00004851a0c4a585a7d73b4943b9bf13',\n",
       "       'width': 64}],\n",
       "     'name': 'SATURATION',\n",
       "     'release_date': '2017-06-09',\n",
       "     'release_date_precision': 'day',\n",
       "     'total_tracks': 17,\n",
       "     'type': 'album',\n",
       "     'uri': 'spotify:album:67smHJOf5YlFwad6dAlppm'},\n",
       "    'artists': [{'external_urls': {'spotify': 'https://open.spotify.com/artist/1Bl6wpkWCQ4KVgnASpvzzA'},\n",
       "      'href': 'https://api.spotify.com/v1/artists/1Bl6wpkWCQ4KVgnASpvzzA',\n",
       "      'id': '1Bl6wpkWCQ4KVgnASpvzzA',\n",
       "      'name': 'BROCKHAMPTON',\n",
       "      'type': 'artist',\n",
       "      'uri': 'spotify:artist:1Bl6wpkWCQ4KVgnASpvzzA'}],\n",
       "    'available_markets': ['AD',\n",
       "     'AE',\n",
       "     'AL',\n",
       "     'AR',\n",
       "     'AT',\n",
       "     'AU',\n",
       "     'BA',\n",
       "     'BE',\n",
       "     'BG',\n",
       "     'BH',\n",
       "     'BO',\n",
       "     'BR',\n",
       "     'BY',\n",
       "     'CA',\n",
       "     'CH',\n",
       "     'CL',\n",
       "     'CO',\n",
       "     'CR',\n",
       "     'CY',\n",
       "     'CZ',\n",
       "     'DE',\n",
       "     'DK',\n",
       "     'DO',\n",
       "     'DZ',\n",
       "     'EC',\n",
       "     'EE',\n",
       "     'EG',\n",
       "     'ES',\n",
       "     'FI',\n",
       "     'FR',\n",
       "     'GB',\n",
       "     'GR',\n",
       "     'GT',\n",
       "     'HK',\n",
       "     'HN',\n",
       "     'HR',\n",
       "     'HU',\n",
       "     'ID',\n",
       "     'IE',\n",
       "     'IL',\n",
       "     'IN',\n",
       "     'IS',\n",
       "     'IT',\n",
       "     'JO',\n",
       "     'JP',\n",
       "     'KW',\n",
       "     'KZ',\n",
       "     'LB',\n",
       "     'LI',\n",
       "     'LT',\n",
       "     'LU',\n",
       "     'LV',\n",
       "     'MA',\n",
       "     'MC',\n",
       "     'MD',\n",
       "     'ME',\n",
       "     'MK',\n",
       "     'MT',\n",
       "     'MX',\n",
       "     'MY',\n",
       "     'NI',\n",
       "     'NL',\n",
       "     'NO',\n",
       "     'NZ',\n",
       "     'OM',\n",
       "     'PA',\n",
       "     'PE',\n",
       "     'PH',\n",
       "     'PL',\n",
       "     'PS',\n",
       "     'PT',\n",
       "     'PY',\n",
       "     'QA',\n",
       "     'RO',\n",
       "     'RS',\n",
       "     'RU',\n",
       "     'SA',\n",
       "     'SE',\n",
       "     'SG',\n",
       "     'SI',\n",
       "     'SK',\n",
       "     'SV',\n",
       "     'TH',\n",
       "     'TN',\n",
       "     'TR',\n",
       "     'TW',\n",
       "     'UA',\n",
       "     'US',\n",
       "     'UY',\n",
       "     'VN',\n",
       "     'XK',\n",
       "     'ZA'],\n",
       "    'disc_number': 1,\n",
       "    'duration_ms': 259000,\n",
       "    'explicit': True,\n",
       "    'external_ids': {'isrc': 'USUYG1144820'},\n",
       "    'external_urls': {'spotify': 'https://open.spotify.com/track/5bknBRjKJZ643DAN2w8Yoy'},\n",
       "    'href': 'https://api.spotify.com/v1/tracks/5bknBRjKJZ643DAN2w8Yoy',\n",
       "    'id': '5bknBRjKJZ643DAN2w8Yoy',\n",
       "    'is_local': False,\n",
       "    'name': 'FACE',\n",
       "    'popularity': 71,\n",
       "    'preview_url': 'https://p.scdn.co/mp3-preview/bc9bec2e866192321b14ebdc3a0439cbee2436c9?cid=954f6f08ec5b452fa503be7526e23b98',\n",
       "    'track_number': 16,\n",
       "    'type': 'track',\n",
       "    'uri': 'spotify:track:5bknBRjKJZ643DAN2w8Yoy'}],\n",
       "  'seeds': [{'initialPoolSize': 0,\n",
       "    'afterFilteringSize': 0,\n",
       "    'afterRelinkingSize': 0,\n",
       "    'id': 'canadian hip hop',\n",
       "    'type': 'GENRE',\n",
       "    'href': None},\n",
       "   {'initialPoolSize': 250,\n",
       "    'afterFilteringSize': 250,\n",
       "    'afterRelinkingSize': 250,\n",
       "    'id': '3TVXtAsR1Inumwj472S9r4',\n",
       "    'type': 'ARTIST',\n",
       "    'href': 'https://api.spotify.com/v1/artists/3TVXtAsR1Inumwj472S9r4'},\n",
       "   {'initialPoolSize': 250,\n",
       "    'afterFilteringSize': 250,\n",
       "    'afterRelinkingSize': 250,\n",
       "    'id': '1Xyo4u8uXC1ZmMpatF05PJ',\n",
       "    'type': 'ARTIST',\n",
       "    'href': 'https://api.spotify.com/v1/artists/1Xyo4u8uXC1ZmMpatF05PJ'},\n",
       "   {'initialPoolSize': 249,\n",
       "    'afterFilteringSize': 249,\n",
       "    'afterRelinkingSize': 249,\n",
       "    'id': '2SAqBLGA283SUiwJ3xOUVI',\n",
       "    'type': 'TRACK',\n",
       "    'href': 'https://api.spotify.com/v1/tracks/2SAqBLGA283SUiwJ3xOUVI'},\n",
       "   {'initialPoolSize': 249,\n",
       "    'afterFilteringSize': 249,\n",
       "    'afterRelinkingSize': 249,\n",
       "    'id': '0VjIjW4GlUZAMYd2vXMi3b',\n",
       "    'type': 'TRACK',\n",
       "    'href': 'https://api.spotify.com/v1/tracks/0VjIjW4GlUZAMYd2vXMi3b'}]}]"
      ]
     },
     "execution_count": 17,
     "metadata": {},
     "output_type": "execute_result"
    }
   ],
   "source": [
    "get_recommendations('Russ', sp)"
   ]
  },
  {
   "cell_type": "markdown",
   "metadata": {},
   "source": [
    "TODO: Prettify output"
   ]
  }
 ],
 "metadata": {
  "kernelspec": {
   "display_name": "env",
   "language": "python",
   "name": "env"
  },
  "language_info": {
   "codemirror_mode": {
    "name": "ipython",
    "version": 3
   },
   "file_extension": ".py",
   "mimetype": "text/x-python",
   "name": "python",
   "nbconvert_exporter": "python",
   "pygments_lexer": "ipython3",
   "version": "3.7.6"
  }
 },
 "nbformat": 4,
 "nbformat_minor": 4
}
