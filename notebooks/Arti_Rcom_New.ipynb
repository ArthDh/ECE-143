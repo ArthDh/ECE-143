{
 "cells": [
  {
   "cell_type": "code",
   "execution_count": 13,
   "metadata": {},
   "outputs": [],
   "source": [
    "import os\n",
    "import pandas as pd\n",
    "import numpy as np\n",
    "import matplotlib.pyplot as plt\n",
    "from tqdm import tqdm\n",
    "import copy\n",
    "import seaborn as sns\n",
    "import time\n",
    "import heapq"
   ]
  },
  {
   "cell_type": "code",
   "execution_count": 14,
   "metadata": {},
   "outputs": [],
   "source": [
    "from sklearn.metrics import mean_squared_error as mse\n",
    "from sklearn.preprocessing import MinMaxScaler\n",
    "from sklearn.cluster import KMeans \n",
    "from sklearn.manifold import TSNE\n",
    "from sklearn.decomposition import PCA\n",
    "import joblib"
   ]
  },
  {
   "cell_type": "code",
   "execution_count": 35,
   "metadata": {},
   "outputs": [
    {
     "data": {
      "text/html": [
       "<div>\n",
       "<style scoped>\n",
       "    .dataframe tbody tr th:only-of-type {\n",
       "        vertical-align: middle;\n",
       "    }\n",
       "\n",
       "    .dataframe tbody tr th {\n",
       "        vertical-align: top;\n",
       "    }\n",
       "\n",
       "    .dataframe thead th {\n",
       "        text-align: right;\n",
       "    }\n",
       "</style>\n",
       "<table border=\"1\" class=\"dataframe\">\n",
       "  <thead>\n",
       "    <tr style=\"text-align: right;\">\n",
       "      <th></th>\n",
       "      <th>acousticness</th>\n",
       "      <th>danceability</th>\n",
       "      <th>duration_ms</th>\n",
       "      <th>energy</th>\n",
       "      <th>explicit</th>\n",
       "      <th>instrumentalness</th>\n",
       "      <th>key</th>\n",
       "      <th>liveness</th>\n",
       "      <th>loudness</th>\n",
       "      <th>mode</th>\n",
       "      <th>popularity</th>\n",
       "      <th>speechiness</th>\n",
       "      <th>tempo</th>\n",
       "      <th>valence</th>\n",
       "      <th>artists</th>\n",
       "    </tr>\n",
       "  </thead>\n",
       "  <tbody>\n",
       "    <tr>\n",
       "      <td>0</td>\n",
       "      <td>0.998996</td>\n",
       "      <td>0.716599</td>\n",
       "      <td>0.028442</td>\n",
       "      <td>0.1950</td>\n",
       "      <td>0.0</td>\n",
       "      <td>0.563</td>\n",
       "      <td>0.909091</td>\n",
       "      <td>0.1510</td>\n",
       "      <td>0.745000</td>\n",
       "      <td>1.0</td>\n",
       "      <td>0.0</td>\n",
       "      <td>0.052219</td>\n",
       "      <td>0.485348</td>\n",
       "      <td>0.7790</td>\n",
       "      <td>Carl Woitschach</td>\n",
       "    </tr>\n",
       "    <tr>\n",
       "      <td>1</td>\n",
       "      <td>0.997992</td>\n",
       "      <td>0.383603</td>\n",
       "      <td>0.051316</td>\n",
       "      <td>0.0135</td>\n",
       "      <td>0.0</td>\n",
       "      <td>0.901</td>\n",
       "      <td>0.727273</td>\n",
       "      <td>0.0763</td>\n",
       "      <td>0.494026</td>\n",
       "      <td>1.0</td>\n",
       "      <td>0.0</td>\n",
       "      <td>0.047678</td>\n",
       "      <td>0.344019</td>\n",
       "      <td>0.0767</td>\n",
       "      <td>Robert Schumann</td>\n",
       "    </tr>\n",
       "    <tr>\n",
       "      <td>2</td>\n",
       "      <td>0.997992</td>\n",
       "      <td>0.383603</td>\n",
       "      <td>0.051316</td>\n",
       "      <td>0.0135</td>\n",
       "      <td>0.0</td>\n",
       "      <td>0.901</td>\n",
       "      <td>0.727273</td>\n",
       "      <td>0.0763</td>\n",
       "      <td>0.494026</td>\n",
       "      <td>1.0</td>\n",
       "      <td>0.0</td>\n",
       "      <td>0.047678</td>\n",
       "      <td>0.344019</td>\n",
       "      <td>0.0767</td>\n",
       "      <td>Vladimir Horowitz</td>\n",
       "    </tr>\n",
       "    <tr>\n",
       "      <td>3</td>\n",
       "      <td>0.606426</td>\n",
       "      <td>0.758097</td>\n",
       "      <td>0.018374</td>\n",
       "      <td>0.2200</td>\n",
       "      <td>0.0</td>\n",
       "      <td>0.000</td>\n",
       "      <td>0.454545</td>\n",
       "      <td>0.1190</td>\n",
       "      <td>0.627609</td>\n",
       "      <td>0.0</td>\n",
       "      <td>0.0</td>\n",
       "      <td>0.958720</td>\n",
       "      <td>0.439086</td>\n",
       "      <td>0.8800</td>\n",
       "      <td>Seweryn Goszczyński</td>\n",
       "    </tr>\n",
       "    <tr>\n",
       "      <td>4</td>\n",
       "      <td>0.998996</td>\n",
       "      <td>0.790486</td>\n",
       "      <td>0.032538</td>\n",
       "      <td>0.1300</td>\n",
       "      <td>0.0</td>\n",
       "      <td>0.887</td>\n",
       "      <td>0.090909</td>\n",
       "      <td>0.1110</td>\n",
       "      <td>0.708887</td>\n",
       "      <td>0.0</td>\n",
       "      <td>0.0</td>\n",
       "      <td>0.095562</td>\n",
       "      <td>0.442470</td>\n",
       "      <td>0.7200</td>\n",
       "      <td>Francisco Canaro</td>\n",
       "    </tr>\n",
       "  </tbody>\n",
       "</table>\n",
       "</div>"
      ],
      "text/plain": [
       "   acousticness  danceability  duration_ms  energy  explicit  \\\n",
       "0      0.998996      0.716599     0.028442  0.1950       0.0   \n",
       "1      0.997992      0.383603     0.051316  0.0135       0.0   \n",
       "2      0.997992      0.383603     0.051316  0.0135       0.0   \n",
       "3      0.606426      0.758097     0.018374  0.2200       0.0   \n",
       "4      0.998996      0.790486     0.032538  0.1300       0.0   \n",
       "\n",
       "   instrumentalness       key  liveness  loudness  mode  popularity  \\\n",
       "0             0.563  0.909091    0.1510  0.745000   1.0         0.0   \n",
       "1             0.901  0.727273    0.0763  0.494026   1.0         0.0   \n",
       "2             0.901  0.727273    0.0763  0.494026   1.0         0.0   \n",
       "3             0.000  0.454545    0.1190  0.627609   0.0         0.0   \n",
       "4             0.887  0.090909    0.1110  0.708887   0.0         0.0   \n",
       "\n",
       "   speechiness     tempo  valence              artists  \n",
       "0     0.052219  0.485348   0.7790      Carl Woitschach  \n",
       "1     0.047678  0.344019   0.0767      Robert Schumann  \n",
       "2     0.047678  0.344019   0.0767    Vladimir Horowitz  \n",
       "3     0.958720  0.439086   0.8800  Seweryn Goszczyński  \n",
       "4     0.095562  0.442470   0.7200     Francisco Canaro  "
      ]
     },
     "execution_count": 35,
     "metadata": {},
     "output_type": "execute_result"
    }
   ],
   "source": [
    "path = '../data/df_cleaned__by_artist.csv'\n",
    "df = pd.read_csv(path)\n",
    "df = df.loc[:, ~df.columns.str.contains('^Unnamed')]\n",
    "df.head()"
   ]
  },
  {
   "cell_type": "markdown",
   "metadata": {},
   "source": [
    "# Data Cleaning"
   ]
  },
  {
   "cell_type": "markdown",
   "metadata": {},
   "source": [
    "Features Selection\n",
    "Looking closely at the features, there are some features to consider whether to include in the final model or not:\n",
    "\n",
    "id: id is unique for each track, therfore cannot assist a model and will be dropped.\n",
    "\n",
    "name: There are 132,940 unique values. In our opinion, this is a problematic categorical feature to insert in a model, and will be dropped.\n",
    "\n",
    "artists: there are 33,375 unique features. Since we enticipate the artist will influence the popularity of the track, this feature will remain and be handled seperatley.\n",
    "\n",
    "release_date: The 'year' feature is a derivative to the 'release_date' feature, therfore one of them should be excluded. Since the release date contains rows with full date and others with year only, the release_date will be dropped."
   ]
  },
  {
   "cell_type": "code",
   "execution_count": 39,
   "metadata": {},
   "outputs": [
    {
     "data": {
      "text/plain": [
       "(224842, 14)"
      ]
     },
     "execution_count": 39,
     "metadata": {},
     "output_type": "execute_result"
    }
   ],
   "source": [
    "# df = df.drop(labels=['id', 'name', 'release_date','year','explicit'], axis=1)\n",
    "df = df.drop(labels=['explicit'], axis=1)\n",
    "df.shape"
   ]
  },
  {
   "cell_type": "code",
   "execution_count": 40,
   "metadata": {},
   "outputs": [
    {
     "data": {
      "text/html": [
       "<div>\n",
       "<style scoped>\n",
       "    .dataframe tbody tr th:only-of-type {\n",
       "        vertical-align: middle;\n",
       "    }\n",
       "\n",
       "    .dataframe tbody tr th {\n",
       "        vertical-align: top;\n",
       "    }\n",
       "\n",
       "    .dataframe thead th {\n",
       "        text-align: right;\n",
       "    }\n",
       "</style>\n",
       "<table border=\"1\" class=\"dataframe\">\n",
       "  <thead>\n",
       "    <tr style=\"text-align: right;\">\n",
       "      <th></th>\n",
       "      <th>acousticness</th>\n",
       "      <th>danceability</th>\n",
       "      <th>duration_ms</th>\n",
       "      <th>energy</th>\n",
       "      <th>instrumentalness</th>\n",
       "      <th>key</th>\n",
       "      <th>liveness</th>\n",
       "      <th>loudness</th>\n",
       "      <th>mode</th>\n",
       "      <th>popularity</th>\n",
       "      <th>speechiness</th>\n",
       "      <th>tempo</th>\n",
       "      <th>valence</th>\n",
       "      <th>artists</th>\n",
       "    </tr>\n",
       "  </thead>\n",
       "  <tbody>\n",
       "    <tr>\n",
       "      <td>0</td>\n",
       "      <td>0.998996</td>\n",
       "      <td>0.716599</td>\n",
       "      <td>0.028442</td>\n",
       "      <td>0.1950</td>\n",
       "      <td>0.56300</td>\n",
       "      <td>0.909091</td>\n",
       "      <td>0.1510</td>\n",
       "      <td>0.745000</td>\n",
       "      <td>1.0</td>\n",
       "      <td>0.00</td>\n",
       "      <td>0.052219</td>\n",
       "      <td>0.485348</td>\n",
       "      <td>0.7790</td>\n",
       "      <td>Carl Woitschach</td>\n",
       "    </tr>\n",
       "    <tr>\n",
       "      <td>1</td>\n",
       "      <td>0.997992</td>\n",
       "      <td>0.383603</td>\n",
       "      <td>0.051316</td>\n",
       "      <td>0.0135</td>\n",
       "      <td>0.90100</td>\n",
       "      <td>0.727273</td>\n",
       "      <td>0.0763</td>\n",
       "      <td>0.494026</td>\n",
       "      <td>1.0</td>\n",
       "      <td>0.00</td>\n",
       "      <td>0.047678</td>\n",
       "      <td>0.344019</td>\n",
       "      <td>0.0767</td>\n",
       "      <td>Robert Schumann</td>\n",
       "    </tr>\n",
       "    <tr>\n",
       "      <td>2</td>\n",
       "      <td>0.997992</td>\n",
       "      <td>0.383603</td>\n",
       "      <td>0.051316</td>\n",
       "      <td>0.0135</td>\n",
       "      <td>0.90100</td>\n",
       "      <td>0.727273</td>\n",
       "      <td>0.0763</td>\n",
       "      <td>0.494026</td>\n",
       "      <td>1.0</td>\n",
       "      <td>0.00</td>\n",
       "      <td>0.047678</td>\n",
       "      <td>0.344019</td>\n",
       "      <td>0.0767</td>\n",
       "      <td>Vladimir Horowitz</td>\n",
       "    </tr>\n",
       "    <tr>\n",
       "      <td>3</td>\n",
       "      <td>0.606426</td>\n",
       "      <td>0.758097</td>\n",
       "      <td>0.018374</td>\n",
       "      <td>0.2200</td>\n",
       "      <td>0.00000</td>\n",
       "      <td>0.454545</td>\n",
       "      <td>0.1190</td>\n",
       "      <td>0.627609</td>\n",
       "      <td>0.0</td>\n",
       "      <td>0.00</td>\n",
       "      <td>0.958720</td>\n",
       "      <td>0.439086</td>\n",
       "      <td>0.8800</td>\n",
       "      <td>Seweryn Goszczyński</td>\n",
       "    </tr>\n",
       "    <tr>\n",
       "      <td>4</td>\n",
       "      <td>0.998996</td>\n",
       "      <td>0.790486</td>\n",
       "      <td>0.032538</td>\n",
       "      <td>0.1300</td>\n",
       "      <td>0.88700</td>\n",
       "      <td>0.090909</td>\n",
       "      <td>0.1110</td>\n",
       "      <td>0.708887</td>\n",
       "      <td>0.0</td>\n",
       "      <td>0.00</td>\n",
       "      <td>0.095562</td>\n",
       "      <td>0.442470</td>\n",
       "      <td>0.7200</td>\n",
       "      <td>Francisco Canaro</td>\n",
       "    </tr>\n",
       "    <tr>\n",
       "      <td>...</td>\n",
       "      <td>...</td>\n",
       "      <td>...</td>\n",
       "      <td>...</td>\n",
       "      <td>...</td>\n",
       "      <td>...</td>\n",
       "      <td>...</td>\n",
       "      <td>...</td>\n",
       "      <td>...</td>\n",
       "      <td>...</td>\n",
       "      <td>...</td>\n",
       "      <td>...</td>\n",
       "      <td>...</td>\n",
       "      <td>...</td>\n",
       "      <td>...</td>\n",
       "    </tr>\n",
       "    <tr>\n",
       "      <td>226808</td>\n",
       "      <td>0.540161</td>\n",
       "      <td>0.520243</td>\n",
       "      <td>0.032527</td>\n",
       "      <td>0.5390</td>\n",
       "      <td>0.00233</td>\n",
       "      <td>0.636364</td>\n",
       "      <td>0.1080</td>\n",
       "      <td>0.793485</td>\n",
       "      <td>1.0</td>\n",
       "      <td>0.70</td>\n",
       "      <td>0.108359</td>\n",
       "      <td>0.506778</td>\n",
       "      <td>0.1530</td>\n",
       "      <td>Kygo</td>\n",
       "    </tr>\n",
       "    <tr>\n",
       "      <td>226809</td>\n",
       "      <td>0.540161</td>\n",
       "      <td>0.520243</td>\n",
       "      <td>0.032527</td>\n",
       "      <td>0.5390</td>\n",
       "      <td>0.00233</td>\n",
       "      <td>0.636364</td>\n",
       "      <td>0.1080</td>\n",
       "      <td>0.793485</td>\n",
       "      <td>1.0</td>\n",
       "      <td>0.70</td>\n",
       "      <td>0.108359</td>\n",
       "      <td>0.506778</td>\n",
       "      <td>0.1530</td>\n",
       "      <td>Oh Wonder</td>\n",
       "    </tr>\n",
       "    <tr>\n",
       "      <td>226810</td>\n",
       "      <td>0.071687</td>\n",
       "      <td>0.653846</td>\n",
       "      <td>0.030046</td>\n",
       "      <td>0.7610</td>\n",
       "      <td>0.00000</td>\n",
       "      <td>0.090909</td>\n",
       "      <td>0.2220</td>\n",
       "      <td>0.899585</td>\n",
       "      <td>1.0</td>\n",
       "      <td>0.70</td>\n",
       "      <td>0.039732</td>\n",
       "      <td>0.532244</td>\n",
       "      <td>0.4720</td>\n",
       "      <td>Cash Cash</td>\n",
       "    </tr>\n",
       "    <tr>\n",
       "      <td>226811</td>\n",
       "      <td>0.071687</td>\n",
       "      <td>0.653846</td>\n",
       "      <td>0.030046</td>\n",
       "      <td>0.7610</td>\n",
       "      <td>0.00000</td>\n",
       "      <td>0.090909</td>\n",
       "      <td>0.2220</td>\n",
       "      <td>0.899585</td>\n",
       "      <td>1.0</td>\n",
       "      <td>0.70</td>\n",
       "      <td>0.039732</td>\n",
       "      <td>0.532244</td>\n",
       "      <td>0.4720</td>\n",
       "      <td>Andy Grammer</td>\n",
       "    </tr>\n",
       "    <tr>\n",
       "      <td>226812</td>\n",
       "      <td>0.109438</td>\n",
       "      <td>0.518219</td>\n",
       "      <td>0.038841</td>\n",
       "      <td>0.4280</td>\n",
       "      <td>0.00000</td>\n",
       "      <td>0.000000</td>\n",
       "      <td>0.1050</td>\n",
       "      <td>0.823945</td>\n",
       "      <td>1.0</td>\n",
       "      <td>0.65</td>\n",
       "      <td>0.027967</td>\n",
       "      <td>0.330156</td>\n",
       "      <td>0.3660</td>\n",
       "      <td>Ingrid Andress</td>\n",
       "    </tr>\n",
       "  </tbody>\n",
       "</table>\n",
       "<p>224842 rows × 14 columns</p>\n",
       "</div>"
      ],
      "text/plain": [
       "        acousticness  danceability  duration_ms  energy  instrumentalness  \\\n",
       "0           0.998996      0.716599     0.028442  0.1950           0.56300   \n",
       "1           0.997992      0.383603     0.051316  0.0135           0.90100   \n",
       "2           0.997992      0.383603     0.051316  0.0135           0.90100   \n",
       "3           0.606426      0.758097     0.018374  0.2200           0.00000   \n",
       "4           0.998996      0.790486     0.032538  0.1300           0.88700   \n",
       "...              ...           ...          ...     ...               ...   \n",
       "226808      0.540161      0.520243     0.032527  0.5390           0.00233   \n",
       "226809      0.540161      0.520243     0.032527  0.5390           0.00233   \n",
       "226810      0.071687      0.653846     0.030046  0.7610           0.00000   \n",
       "226811      0.071687      0.653846     0.030046  0.7610           0.00000   \n",
       "226812      0.109438      0.518219     0.038841  0.4280           0.00000   \n",
       "\n",
       "             key  liveness  loudness  mode  popularity  speechiness     tempo  \\\n",
       "0       0.909091    0.1510  0.745000   1.0        0.00     0.052219  0.485348   \n",
       "1       0.727273    0.0763  0.494026   1.0        0.00     0.047678  0.344019   \n",
       "2       0.727273    0.0763  0.494026   1.0        0.00     0.047678  0.344019   \n",
       "3       0.454545    0.1190  0.627609   0.0        0.00     0.958720  0.439086   \n",
       "4       0.090909    0.1110  0.708887   0.0        0.00     0.095562  0.442470   \n",
       "...          ...       ...       ...   ...         ...          ...       ...   \n",
       "226808  0.636364    0.1080  0.793485   1.0        0.70     0.108359  0.506778   \n",
       "226809  0.636364    0.1080  0.793485   1.0        0.70     0.108359  0.506778   \n",
       "226810  0.090909    0.2220  0.899585   1.0        0.70     0.039732  0.532244   \n",
       "226811  0.090909    0.2220  0.899585   1.0        0.70     0.039732  0.532244   \n",
       "226812  0.000000    0.1050  0.823945   1.0        0.65     0.027967  0.330156   \n",
       "\n",
       "        valence              artists  \n",
       "0        0.7790      Carl Woitschach  \n",
       "1        0.0767      Robert Schumann  \n",
       "2        0.0767    Vladimir Horowitz  \n",
       "3        0.8800  Seweryn Goszczyński  \n",
       "4        0.7200     Francisco Canaro  \n",
       "...         ...                  ...  \n",
       "226808   0.1530                 Kygo  \n",
       "226809   0.1530            Oh Wonder  \n",
       "226810   0.4720            Cash Cash  \n",
       "226811   0.4720         Andy Grammer  \n",
       "226812   0.3660       Ingrid Andress  \n",
       "\n",
       "[224842 rows x 14 columns]"
      ]
     },
     "execution_count": 40,
     "metadata": {},
     "output_type": "execute_result"
    }
   ],
   "source": [
    "df"
   ]
  },
  {
   "cell_type": "code",
   "execution_count": 41,
   "metadata": {},
   "outputs": [
    {
     "name": "stdout",
     "output_type": "stream",
     "text": [
      "0 duplicated data in the current data frame\n"
     ]
    },
    {
     "data": {
      "text/plain": [
       "(224842, 14)"
      ]
     },
     "execution_count": 41,
     "metadata": {},
     "output_type": "execute_result"
    }
   ],
   "source": [
    "# Cleaning duplicated data\n",
    "print(df.duplicated().sum(),'duplicated data in the current data frame')\n",
    "df = df[~df.duplicated()==1]\n",
    "df.shape"
   ]
  },
  {
   "cell_type": "markdown",
   "metadata": {},
   "source": [
    "# Preprocessing"
   ]
  },
  {
   "cell_type": "code",
   "execution_count": 42,
   "metadata": {},
   "outputs": [],
   "source": [
    "X = copy.deepcopy(df.drop(labels = ['artists'],axis = 1))\n",
    "maxvalues = np.max(X.to_numpy(),axis=0)"
   ]
  },
  {
   "cell_type": "code",
   "execution_count": 43,
   "metadata": {},
   "outputs": [],
   "source": [
    "arti_names = df.artists.to_numpy()"
   ]
  },
  {
   "cell_type": "code",
   "execution_count": 44,
   "metadata": {},
   "outputs": [],
   "source": [
    "song_features = pd.DataFrame()\n",
    "# normalizer instance\n",
    "scaler = MinMaxScaler()\n",
    "for col in X.columns:      # excluding year col i.e, of int64 type\n",
    "    scaler.fit(X[[col]])\n",
    "    song_features[col] = scaler.transform(X[col].values.reshape(-1,1)).ravel() "
   ]
  },
  {
   "cell_type": "code",
   "execution_count": 45,
   "metadata": {},
   "outputs": [],
   "source": [
    "featuremap = song_features.to_numpy()"
   ]
  },
  {
   "cell_type": "code",
   "execution_count": 46,
   "metadata": {},
   "outputs": [
    {
     "data": {
      "text/plain": [
       "(224842, 13)"
      ]
     },
     "execution_count": 46,
     "metadata": {},
     "output_type": "execute_result"
    }
   ],
   "source": [
    "featuremap.shape"
   ]
  },
  {
   "cell_type": "markdown",
   "metadata": {},
   "source": [
    "# Acquiring features based on a single name"
   ]
  },
  {
   "cell_type": "code",
   "execution_count": 47,
   "metadata": {},
   "outputs": [],
   "source": [
    "emdict = {'acousticness': 0.145,\n",
    " 'danceability': 0.808,\n",
    " 'duration_ms': 210800,\n",
    " 'energy': 0.745,\n",
    " 'instrumentalness': 0,\n",
    " 'key': 10,\n",
    " 'liveness': 0.292,\n",
    " 'loudness': -5.26,\n",
    " 'mode': 0,\n",
    " 'speechiness': 0.342,\n",
    " 'tempo': 165.995,\n",
    " 'valence': 0.829,\n",
    " 'popularity': 86}"
   ]
  },
  {
   "cell_type": "code",
   "execution_count": 48,
   "metadata": {},
   "outputs": [],
   "source": [
    "# idx = np.where(arti_names=='G-Eazy')[0][0]\n",
    "# arti_names[idx]\n",
    "# em = featuremap[idx]"
   ]
  },
  {
   "cell_type": "code",
   "execution_count": 49,
   "metadata": {},
   "outputs": [],
   "source": [
    "em = np.asarray(list(emdict.values()))\n",
    "em = scaler.fit_transform(em.reshape(-1, 1)).reshape(-1,)"
   ]
  },
  {
   "cell_type": "code",
   "execution_count": null,
   "metadata": {},
   "outputs": [],
   "source": []
  },
  {
   "cell_type": "code",
   "execution_count": 50,
   "metadata": {},
   "outputs": [],
   "source": [
    "rank = np.sum((featuremap - em)**2,axis=1)"
   ]
  },
  {
   "cell_type": "code",
   "execution_count": 51,
   "metadata": {},
   "outputs": [
    {
     "data": {
      "text/plain": [
       "(224842,)"
      ]
     },
     "execution_count": 51,
     "metadata": {},
     "output_type": "execute_result"
    }
   ],
   "source": [
    "rank.shape"
   ]
  },
  {
   "cell_type": "code",
   "execution_count": 52,
   "metadata": {},
   "outputs": [
    {
     "data": {
      "text/plain": [
       "array(['Connie Francis', 'Benny Goodman', 'Future Rapper',\n",
       "       'Connie Francis', 'Sarah Vaughan', 'Benny Goodman'], dtype=object)"
      ]
     },
     "execution_count": 52,
     "metadata": {},
     "output_type": "execute_result"
    }
   ],
   "source": [
    "idx = np.argpartition(rank, 6)\n",
    "arti_names [idx][:6]"
   ]
  },
  {
   "cell_type": "code",
   "execution_count": 53,
   "metadata": {},
   "outputs": [
    {
     "name": "stdout",
     "output_type": "stream",
     "text": [
      "Top 5 recomendid singers:\n",
      " ['Connie Francis', 'Connie Francis', 'Sarah Vaughan', 'Benny Goodman', 'Benny Goodman']\n"
     ]
    }
   ],
   "source": [
    "print('Top 5 recomendid singers:\\n',list(arti_names[heapq.nsmallest(6, range(len(rank)), rank.take)][1:]))"
   ]
  },
  {
   "cell_type": "code",
   "execution_count": null,
   "metadata": {},
   "outputs": [],
   "source": []
  }
 ],
 "metadata": {
  "kernelspec": {
   "display_name": "Python 3",
   "language": "python",
   "name": "python3"
  }
 },
 "nbformat": 4,
 "nbformat_minor": 2
}
