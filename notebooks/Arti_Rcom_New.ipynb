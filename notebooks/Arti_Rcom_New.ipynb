{
 "cells": [
  {
   "cell_type": "code",
   "execution_count": 1,
   "metadata": {
    "scrolled": true
   },
   "outputs": [],
   "source": [
    "import os, sys\n",
    "import pandas as pd\n",
    "import numpy as np\n",
    "import matplotlib.pyplot as plt\n",
    "from tqdm import tqdm\n",
    "from pathlib import Path\n",
    "import copy\n",
    "import seaborn as sns\n",
    "import time\n",
    "import heapq\n",
    "\n",
    "sys.path.append(os.path.abspath('../util'))\n",
    "from IPython.display import display,HTML,clear_output"
   ]
  },
  {
   "cell_type": "code",
   "execution_count": 2,
   "metadata": {
    "scrolled": true
   },
   "outputs": [],
   "source": [
    "from sklearn.metrics import mean_squared_error as mse\n",
    "from sklearn.preprocessing import MinMaxScaler\n",
    "from sklearn.cluster import KMeans \n",
    "from sklearn.manifold import TSNE\n",
    "from sklearn.decomposition import PCA\n",
    "import joblib"
   ]
  },
  {
   "cell_type": "code",
   "execution_count": 3,
   "metadata": {
    "scrolled": true
   },
   "outputs": [],
   "source": [
    "data_path = Path('../data/')\n",
    "model_path = Path('../model/')"
   ]
  },
  {
   "cell_type": "code",
   "execution_count": 4,
   "metadata": {
    "scrolled": true
   },
   "outputs": [],
   "source": [
    "df_f_path= data_path / Path('data.csv')\n",
    "df_f = pd.read_csv(df_f_path)\n",
    "df_f = df_f.drop(['artists', 'id', 'name', 'release_date', 'year', 'explicit'], axis=1)"
   ]
  },
  {
   "cell_type": "code",
   "execution_count": 5,
   "metadata": {
    "scrolled": true
   },
   "outputs": [],
   "source": [
    "df_min = df_f.min()\n",
    "df_max = df_f.max()"
   ]
  },
  {
   "cell_type": "code",
   "execution_count": 6,
   "metadata": {
    "scrolled": true
   },
   "outputs": [
    {
     "data": {
      "text/plain": [
       "(acousticness           0.0\n",
       " danceability           0.0\n",
       " duration_ms         5108.0\n",
       " energy                 0.0\n",
       " instrumentalness       0.0\n",
       " key                    0.0\n",
       " liveness               0.0\n",
       " loudness             -60.0\n",
       " mode                   0.0\n",
       " popularity             0.0\n",
       " speechiness            0.0\n",
       " tempo                  0.0\n",
       " valence                0.0\n",
       " dtype: float64,\n",
       " acousticness              0.996\n",
       " danceability              0.988\n",
       " duration_ms         5403500.000\n",
       " energy                    1.000\n",
       " instrumentalness          1.000\n",
       " key                      11.000\n",
       " liveness                  1.000\n",
       " loudness                  3.855\n",
       " mode                      1.000\n",
       " popularity              100.000\n",
       " speechiness               0.969\n",
       " tempo                   244.091\n",
       " valence                   1.000\n",
       " dtype: float64)"
      ]
     },
     "execution_count": 6,
     "metadata": {},
     "output_type": "execute_result"
    }
   ],
   "source": [
    "df_min, df_max"
   ]
  },
  {
   "cell_type": "code",
   "execution_count": 7,
   "metadata": {
    "scrolled": true
   },
   "outputs": [
    {
     "data": {
      "text/html": [
       "<div>\n",
       "<style scoped>\n",
       "    .dataframe tbody tr th:only-of-type {\n",
       "        vertical-align: middle;\n",
       "    }\n",
       "\n",
       "    .dataframe tbody tr th {\n",
       "        vertical-align: top;\n",
       "    }\n",
       "\n",
       "    .dataframe thead th {\n",
       "        text-align: right;\n",
       "    }\n",
       "</style>\n",
       "<table border=\"1\" class=\"dataframe\">\n",
       "  <thead>\n",
       "    <tr style=\"text-align: right;\">\n",
       "      <th></th>\n",
       "      <th>acousticness</th>\n",
       "      <th>danceability</th>\n",
       "      <th>duration_ms</th>\n",
       "      <th>energy</th>\n",
       "      <th>instrumentalness</th>\n",
       "      <th>key</th>\n",
       "      <th>liveness</th>\n",
       "      <th>loudness</th>\n",
       "      <th>mode</th>\n",
       "      <th>popularity</th>\n",
       "      <th>speechiness</th>\n",
       "      <th>tempo</th>\n",
       "      <th>valence</th>\n",
       "      <th>artists</th>\n",
       "    </tr>\n",
       "  </thead>\n",
       "  <tbody>\n",
       "    <tr>\n",
       "      <th>0</th>\n",
       "      <td>0.998996</td>\n",
       "      <td>0.716599</td>\n",
       "      <td>0.028442</td>\n",
       "      <td>0.1950</td>\n",
       "      <td>0.563</td>\n",
       "      <td>0.909091</td>\n",
       "      <td>0.1510</td>\n",
       "      <td>0.745000</td>\n",
       "      <td>1.0</td>\n",
       "      <td>0.0</td>\n",
       "      <td>0.052219</td>\n",
       "      <td>0.485348</td>\n",
       "      <td>0.7790</td>\n",
       "      <td>Carl Woitschach</td>\n",
       "    </tr>\n",
       "    <tr>\n",
       "      <th>1</th>\n",
       "      <td>0.997992</td>\n",
       "      <td>0.383603</td>\n",
       "      <td>0.051316</td>\n",
       "      <td>0.0135</td>\n",
       "      <td>0.901</td>\n",
       "      <td>0.727273</td>\n",
       "      <td>0.0763</td>\n",
       "      <td>0.494026</td>\n",
       "      <td>1.0</td>\n",
       "      <td>0.0</td>\n",
       "      <td>0.047678</td>\n",
       "      <td>0.344019</td>\n",
       "      <td>0.0767</td>\n",
       "      <td>Robert Schumann</td>\n",
       "    </tr>\n",
       "    <tr>\n",
       "      <th>2</th>\n",
       "      <td>0.997992</td>\n",
       "      <td>0.383603</td>\n",
       "      <td>0.051316</td>\n",
       "      <td>0.0135</td>\n",
       "      <td>0.901</td>\n",
       "      <td>0.727273</td>\n",
       "      <td>0.0763</td>\n",
       "      <td>0.494026</td>\n",
       "      <td>1.0</td>\n",
       "      <td>0.0</td>\n",
       "      <td>0.047678</td>\n",
       "      <td>0.344019</td>\n",
       "      <td>0.0767</td>\n",
       "      <td>Vladimir Horowitz</td>\n",
       "    </tr>\n",
       "    <tr>\n",
       "      <th>3</th>\n",
       "      <td>0.606426</td>\n",
       "      <td>0.758097</td>\n",
       "      <td>0.018374</td>\n",
       "      <td>0.2200</td>\n",
       "      <td>0.000</td>\n",
       "      <td>0.454545</td>\n",
       "      <td>0.1190</td>\n",
       "      <td>0.627609</td>\n",
       "      <td>0.0</td>\n",
       "      <td>0.0</td>\n",
       "      <td>0.958720</td>\n",
       "      <td>0.439086</td>\n",
       "      <td>0.8800</td>\n",
       "      <td>Seweryn Goszczyński</td>\n",
       "    </tr>\n",
       "    <tr>\n",
       "      <th>4</th>\n",
       "      <td>0.998996</td>\n",
       "      <td>0.790486</td>\n",
       "      <td>0.032538</td>\n",
       "      <td>0.1300</td>\n",
       "      <td>0.887</td>\n",
       "      <td>0.090909</td>\n",
       "      <td>0.1110</td>\n",
       "      <td>0.708887</td>\n",
       "      <td>0.0</td>\n",
       "      <td>0.0</td>\n",
       "      <td>0.095562</td>\n",
       "      <td>0.442470</td>\n",
       "      <td>0.7200</td>\n",
       "      <td>Francisco Canaro</td>\n",
       "    </tr>\n",
       "  </tbody>\n",
       "</table>\n",
       "</div>"
      ],
      "text/plain": [
       "   acousticness  danceability  duration_ms  energy  instrumentalness  \\\n",
       "0      0.998996      0.716599     0.028442  0.1950             0.563   \n",
       "1      0.997992      0.383603     0.051316  0.0135             0.901   \n",
       "2      0.997992      0.383603     0.051316  0.0135             0.901   \n",
       "3      0.606426      0.758097     0.018374  0.2200             0.000   \n",
       "4      0.998996      0.790486     0.032538  0.1300             0.887   \n",
       "\n",
       "        key  liveness  loudness  mode  popularity  speechiness     tempo  \\\n",
       "0  0.909091    0.1510  0.745000   1.0         0.0     0.052219  0.485348   \n",
       "1  0.727273    0.0763  0.494026   1.0         0.0     0.047678  0.344019   \n",
       "2  0.727273    0.0763  0.494026   1.0         0.0     0.047678  0.344019   \n",
       "3  0.454545    0.1190  0.627609   0.0         0.0     0.958720  0.439086   \n",
       "4  0.090909    0.1110  0.708887   0.0         0.0     0.095562  0.442470   \n",
       "\n",
       "   valence              artists  \n",
       "0   0.7790      Carl Woitschach  \n",
       "1   0.0767      Robert Schumann  \n",
       "2   0.0767    Vladimir Horowitz  \n",
       "3   0.8800  Seweryn Goszczyński  \n",
       "4   0.7200     Francisco Canaro  "
      ]
     },
     "execution_count": 7,
     "metadata": {},
     "output_type": "execute_result"
    }
   ],
   "source": [
    "path = '../data/df_cleaned__by_artist.csv'\n",
    "df = pd.read_csv(path)\n",
    "df = df.loc[:, ~df.columns.str.contains('^Unnamed')]\n",
    "df = df.drop(['explicit'], axis=1)\n",
    "df.head()"
   ]
  },
  {
   "cell_type": "markdown",
   "metadata": {},
   "source": [
    "# Data Cleaning"
   ]
  },
  {
   "cell_type": "markdown",
   "metadata": {},
   "source": [
    "Features Selection\n",
    "Looking closely at the features, there are some features to consider whether to include in the final model or not:\n",
    "\n",
    "id: id is unique for each track, therfore cannot assist a model and will be dropped.\n",
    "\n",
    "name: There are 132,940 unique values. In our opinion, this is a problematic categorical feature to insert in a model, and will be dropped.\n",
    "\n",
    "artists: there are 33,375 unique features. Since we enticipate the artist will influence the popularity of the track, this feature will remain and be handled seperatley.\n",
    "\n",
    "release_date: The 'year' feature is a derivative to the 'release_date' feature, therfore one of them should be excluded. Since the release date contains rows with full date and others with year only, the release_date will be dropped."
   ]
  },
  {
   "cell_type": "code",
   "execution_count": 8,
   "metadata": {
    "scrolled": true
   },
   "outputs": [
    {
     "name": "stdout",
     "output_type": "stream",
     "text": [
      "1971 duplicated data in the current data frame\n"
     ]
    },
    {
     "data": {
      "text/plain": [
       "(224842, 14)"
      ]
     },
     "execution_count": 8,
     "metadata": {},
     "output_type": "execute_result"
    }
   ],
   "source": [
    "# Cleaning duplicated data\n",
    "print(df.duplicated().sum(),'duplicated data in the current data frame')\n",
    "df = df[~df.duplicated()==1]\n",
    "df.shape"
   ]
  },
  {
   "cell_type": "markdown",
   "metadata": {},
   "source": [
    "# Preprocessing"
   ]
  },
  {
   "cell_type": "code",
   "execution_count": 9,
   "metadata": {
    "scrolled": true
   },
   "outputs": [
    {
     "data": {
      "text/plain": [
       "(224842, 13)"
      ]
     },
     "execution_count": 9,
     "metadata": {},
     "output_type": "execute_result"
    }
   ],
   "source": [
    "X = copy.deepcopy(df.drop(labels = ['artists'],axis = 1))\n",
    "# maxvalues = np.max(X.to_numpy(),axis=0)\n",
    "X.shape"
   ]
  },
  {
   "cell_type": "code",
   "execution_count": 10,
   "metadata": {
    "scrolled": true
   },
   "outputs": [],
   "source": [
    "arti_names = df.artists.to_numpy()"
   ]
  },
  {
   "cell_type": "code",
   "execution_count": 11,
   "metadata": {
    "scrolled": true
   },
   "outputs": [],
   "source": [
    "# song_features = pd.DataFrame()\n",
    "# # normalizer instance\n",
    "# scaler = MinMaxScaler()\n",
    "# for col in X.columns:      # excluding year col i.e, of int64 type\n",
    "#     scaler.fit(X[[col]])\n",
    "#     song_features[col] = scaler.transform(X[col].values.reshape(-1,1)).ravel() "
   ]
  },
  {
   "cell_type": "code",
   "execution_count": 12,
   "metadata": {
    "scrolled": true
   },
   "outputs": [],
   "source": [
    "# featuremap = song_features.to_numpy()"
   ]
  },
  {
   "cell_type": "code",
   "execution_count": 13,
   "metadata": {
    "scrolled": true
   },
   "outputs": [],
   "source": [
    "# featuremap.shape"
   ]
  },
  {
   "cell_type": "markdown",
   "metadata": {},
   "source": [
    "# Acquiring features based on a single name"
   ]
  },
  {
   "cell_type": "code",
   "execution_count": 14,
   "metadata": {
    "scrolled": true
   },
   "outputs": [],
   "source": [
    "from spotify_interface import *"
   ]
  },
  {
   "cell_type": "code",
   "execution_count": 15,
   "metadata": {
    "scrolled": true
   },
   "outputs": [],
   "source": [
    "with open('../util/spotify_client.txt', 'rb') as f:\n",
    "    (client_id, client_secret, oauth_token) = pkl.load(f)"
   ]
  },
  {
   "cell_type": "code",
   "execution_count": 16,
   "metadata": {
    "scrolled": true
   },
   "outputs": [],
   "source": [
    "scope = \"user-library-read\"\n",
    "username = \"Arth\"\n",
    "redirect_url = 'http://127.0.0.1:9090'"
   ]
  },
  {
   "cell_type": "code",
   "execution_count": 17,
   "metadata": {
    "scrolled": true
   },
   "outputs": [
    {
     "name": "stdout",
     "output_type": "stream",
     "text": [
      "Token acquired for:  Arth\n"
     ]
    }
   ],
   "source": [
    "sp = get_spotify_token(username, scope, redirect_url, client_id,client_secret)"
   ]
  },
  {
   "cell_type": "code",
   "execution_count": 18,
   "metadata": {
    "scrolled": true
   },
   "outputs": [],
   "source": [
    "features = ['acousticness',\n",
    " 'danceability',\n",
    " 'duration_ms',\n",
    " 'energy',\n",
    " 'explicit',\n",
    " 'instrumentalness',\n",
    " 'key',\n",
    " 'liveness',\n",
    " 'loudness',\n",
    " 'mode',\n",
    " 'popularity',\n",
    " 'speechiness',\n",
    " 'tempo',\n",
    " 'valence']"
   ]
  },
  {
   "cell_type": "code",
   "execution_count": 19,
   "metadata": {},
   "outputs": [
    {
     "data": {
      "text/plain": [
       "14"
      ]
     },
     "execution_count": 19,
     "metadata": {},
     "output_type": "execute_result"
    }
   ],
   "source": [
    "len(features)"
   ]
  },
  {
   "cell_type": "code",
   "execution_count": 20,
   "metadata": {
    "scrolled": true
   },
   "outputs": [],
   "source": [
    "name = \"Kanye West\"\n",
    "lim = 5"
   ]
  },
  {
   "cell_type": "code",
   "execution_count": 21,
   "metadata": {},
   "outputs": [
    {
     "data": {
      "text/plain": [
       "<spotipy.client.Spotify at 0x7f76e69c9f50>"
      ]
     },
     "execution_count": 21,
     "metadata": {},
     "output_type": "execute_result"
    }
   ],
   "source": [
    "sp"
   ]
  },
  {
   "cell_type": "code",
   "execution_count": 22,
   "metadata": {
    "scrolled": true
   },
   "outputs": [],
   "source": [
    "artist = get_artist([name], sp)\n",
    "artist_dict = get_features(artist[0], sp, features)"
   ]
  },
  {
   "cell_type": "code",
   "execution_count": 23,
   "metadata": {
    "scrolled": true
   },
   "outputs": [],
   "source": [
    "artist_series = pd.Series(artist_dict)"
   ]
  },
  {
   "cell_type": "code",
   "execution_count": 24,
   "metadata": {
    "scrolled": true
   },
   "outputs": [],
   "source": [
    "artist_scaled = (artist_series-df_min) / (df_max - df_min)"
   ]
  },
  {
   "cell_type": "code",
   "execution_count": 25,
   "metadata": {
    "scrolled": true
   },
   "outputs": [],
   "source": [
    "rank = np.sum((X - artist_scaled)**2,axis=1)"
   ]
  },
  {
   "cell_type": "code",
   "execution_count": 26,
   "metadata": {
    "scrolled": true
   },
   "outputs": [
    {
     "data": {
      "text/plain": [
       "array(['Nick Jonas', ' Tinashe', 'blackbear', 'Kanye West',\n",
       "       ' Chelsea Cutler'], dtype=object)"
      ]
     },
     "execution_count": 26,
     "metadata": {},
     "output_type": "execute_result"
    }
   ],
   "source": [
    "idx = np.argpartition(rank, 6)\n",
    "arti_names [idx][:5]"
   ]
  },
  {
   "cell_type": "code",
   "execution_count": 27,
   "metadata": {},
   "outputs": [
    {
     "data": {
      "text/plain": [
       "array(['Nick Jonas', ' Tinashe'], dtype=object)"
      ]
     },
     "execution_count": 27,
     "metadata": {},
     "output_type": "execute_result"
    }
   ],
   "source": [
    "arti_names [idx][:2]"
   ]
  },
  {
   "cell_type": "code",
   "execution_count": 28,
   "metadata": {
    "scrolled": true
   },
   "outputs": [],
   "source": [
    "rec = get_recommendations(arti_names [idx][:2], sp, lim= lim)"
   ]
  },
  {
   "cell_type": "code",
   "execution_count": 29,
   "metadata": {
    "scrolled": false
   },
   "outputs": [
    {
     "data": {
      "text/html": [
       "<hr></hr>"
      ],
      "text/plain": [
       "<IPython.core.display.HTML object>"
      ]
     },
     "metadata": {},
     "output_type": "display_data"
    },
    {
     "data": {
      "text/html": [
       "<h1> <b>Artist:</b> Little Mix\t </h1> <h2> <b>Album:</b> Get Weird (Expanded Edition) </h2> <br> <img src='https://i.scdn.co/image/ab67616d00001e02995994477ea1ae8097978bf8'> <br> <audio controls><source src='https://p.scdn.co/mp3-preview/02c610333ff611955b2169515911320854423108?cid=954f6f08ec5b452fa503be7526e23b98' type='audio/ogg'> </audio>"
      ],
      "text/plain": [
       "<IPython.core.display.HTML object>"
      ]
     },
     "metadata": {},
     "output_type": "display_data"
    },
    {
     "data": {
      "text/html": [
       "<hr></hr>"
      ],
      "text/plain": [
       "<IPython.core.display.HTML object>"
      ]
     },
     "metadata": {},
     "output_type": "display_data"
    },
    {
     "data": {
      "text/html": [
       "<h1> <b>Artist:</b> MAX\t </h1> <h2> <b>Album:</b> Acid Dreams </h2> <br> <img src='https://i.scdn.co/image/ab67616d00001e02930193f032d9c29139c3f6b2'> <br> <audio controls><source src='https://p.scdn.co/mp3-preview/fdd254bd5006335bb3b11b02a0e52a240536b21e?cid=954f6f08ec5b452fa503be7526e23b98' type='audio/ogg'> </audio>"
      ],
      "text/plain": [
       "<IPython.core.display.HTML object>"
      ]
     },
     "metadata": {},
     "output_type": "display_data"
    },
    {
     "data": {
      "text/html": [
       "<hr></hr>"
      ],
      "text/plain": [
       "<IPython.core.display.HTML object>"
      ]
     },
     "metadata": {},
     "output_type": "display_data"
    },
    {
     "data": {
      "text/html": [
       "<h1> <b>Artist:</b> RAC\t </h1> <h2> <b>Album:</b> Strangers </h2> <br> <img src='https://i.scdn.co/image/ab67616d00001e025dc08a1f177fbec3ce382c1d'> <br> <audio controls><source src='None' type='audio/ogg'> </audio>"
      ],
      "text/plain": [
       "<IPython.core.display.HTML object>"
      ]
     },
     "metadata": {},
     "output_type": "display_data"
    },
    {
     "data": {
      "text/html": [
       "<hr></hr>"
      ],
      "text/plain": [
       "<IPython.core.display.HTML object>"
      ]
     },
     "metadata": {},
     "output_type": "display_data"
    },
    {
     "data": {
      "text/html": [
       "<h1> <b>Artist:</b> Jordan Fisher\t </h1> <h2> <b>Album:</b> Jordan Fisher </h2> <br> <img src='https://i.scdn.co/image/ab67616d00001e0205a25ed77d913b33ad71d059'> <br> <audio controls><source src='None' type='audio/ogg'> </audio>"
      ],
      "text/plain": [
       "<IPython.core.display.HTML object>"
      ]
     },
     "metadata": {},
     "output_type": "display_data"
    },
    {
     "data": {
      "text/html": [
       "<hr></hr>"
      ],
      "text/plain": [
       "<IPython.core.display.HTML object>"
      ]
     },
     "metadata": {},
     "output_type": "display_data"
    },
    {
     "data": {
      "text/html": [
       "<h1> <b>Artist:</b> Jesse McCartney\t </h1> <h2> <b>Album:</b> Departure - Recharged </h2> <br> <img src='https://i.scdn.co/image/ab67616d00001e0240cf6d7e6353abac2fb22b7c'> <br> <audio controls><source src='None' type='audio/ogg'> </audio>"
      ],
      "text/plain": [
       "<IPython.core.display.HTML object>"
      ]
     },
     "metadata": {},
     "output_type": "display_data"
    },
    {
     "data": {
      "text/html": [
       "<hr></hr>"
      ],
      "text/plain": [
       "<IPython.core.display.HTML object>"
      ]
     },
     "metadata": {},
     "output_type": "display_data"
    }
   ],
   "source": [
    "display(HTML(\"<hr></hr>\"))\n",
    "for i in range(0, lim):\n",
    "    display(HTML(f\"<h1> <b>Artist:</b> {rec[0]['tracks'][i]['artists'][0]['name']}\\t </h1> <h2> <b>Album:</b> {rec[0]['tracks'][i]['album']['name']} </h2> <br> <img src='{rec[0]['tracks'][i]['album']['images'][1]['url']}'> <br> <audio controls><source src='{rec[0]['tracks'][i]['preview_url']}' type='audio/ogg'> </audio>\"))\n",
    "    display(HTML(\"<hr></hr>\"))"
   ]
  },
  {
   "cell_type": "code",
   "execution_count": null,
   "metadata": {},
   "outputs": [],
   "source": []
  }
 ],
 "metadata": {
  "kernelspec": {
   "display_name": "env",
   "language": "python",
   "name": "env"
  },
  "language_info": {
   "codemirror_mode": {
    "name": "ipython",
    "version": 3
   },
   "file_extension": ".py",
   "mimetype": "text/x-python",
   "name": "python",
   "nbconvert_exporter": "python",
   "pygments_lexer": "ipython3",
   "version": "3.7.6"
  }
 },
 "nbformat": 4,
 "nbformat_minor": 2
}
