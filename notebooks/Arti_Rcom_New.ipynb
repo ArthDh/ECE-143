{
 "cells": [
  {
   "cell_type": "code",
   "execution_count": 1,
   "metadata": {},
   "outputs": [
    {
     "data": {
      "application/javascript": [
       "IPython.OutputArea.prototype._should_scroll = function(lines) {\n",
       "    return false;\n",
       "}\n"
      ],
      "text/plain": [
       "<IPython.core.display.Javascript object>"
      ]
     },
     "metadata": {},
     "output_type": "display_data"
    }
   ],
   "source": [
    "%%javascript\n",
    "IPython.OutputArea.prototype._should_scroll = function(lines) {\n",
    "    return false;\n",
    "}"
   ]
  },
  {
   "cell_type": "code",
   "execution_count": 2,
   "metadata": {
    "scrolled": false
   },
   "outputs": [],
   "source": [
    "import sys, os\n",
    "sys.path.append(os.path.abspath('../util'))\n",
    "from spotify_interface import *"
   ]
  },
  {
   "cell_type": "code",
   "execution_count": 3,
   "metadata": {
    "scrolled": false
   },
   "outputs": [],
   "source": [
    "name = \"Snoop Dogg\"\n",
    "lim = 5"
   ]
  },
  {
   "cell_type": "code",
   "execution_count": 5,
   "metadata": {
    "scrolled": false
   },
   "outputs": [
    {
     "name": "stdout",
     "output_type": "stream",
     "text": [
      "Token acquired for:  Arth\n"
     ]
    },
    {
     "data": {
      "text/html": [
       "<hr></hr>"
      ],
      "text/plain": [
       "<IPython.core.display.HTML object>"
      ]
     },
     "metadata": {},
     "output_type": "display_data"
    },
    {
     "data": {
      "text/html": [
       "<h1> <b>Artist:</b> 2Pac\t </h1> <h2> <b>Album:</b> All Eyez On Me </h2> <br> <img src='https://i.scdn.co/image/ab67616d00001e02ae9a8fcf55d7d74ca02c1e66'> <br> <audio controls><source src='https://p.scdn.co/mp3-preview/e9839e9e8a92fd04df8a2ec3ce3da98dd399d728?cid=954f6f08ec5b452fa503be7526e23b98' type='audio/ogg'> </audio>"
      ],
      "text/plain": [
       "<IPython.core.display.HTML object>"
      ]
     },
     "metadata": {},
     "output_type": "display_data"
    },
    {
     "data": {
      "text/html": [
       "<hr></hr>"
      ],
      "text/plain": [
       "<IPython.core.display.HTML object>"
      ]
     },
     "metadata": {},
     "output_type": "display_data"
    },
    {
     "data": {
      "text/html": [
       "<h1> <b>Artist:</b> Lil Wayne\t </h1> <h2> <b>Album:</b> Tha Carter III </h2> <br> <img src='https://i.scdn.co/image/ab67616d00001e02aa739a5e844220bb44a64adc'> <br> <audio controls><source src='None' type='audio/ogg'> </audio>"
      ],
      "text/plain": [
       "<IPython.core.display.HTML object>"
      ]
     },
     "metadata": {},
     "output_type": "display_data"
    },
    {
     "data": {
      "text/html": [
       "<hr></hr>"
      ],
      "text/plain": [
       "<IPython.core.display.HTML object>"
      ]
     },
     "metadata": {},
     "output_type": "display_data"
    },
    {
     "data": {
      "text/html": [
       "<h1> <b>Artist:</b> Chamillionaire\t </h1> <h2> <b>Album:</b> The Sound of Revenge </h2> <br> <img src='https://i.scdn.co/image/ab67616d00001e02abeffe927a62a584cf7c2708'> <br> <audio controls><source src='None' type='audio/ogg'> </audio>"
      ],
      "text/plain": [
       "<IPython.core.display.HTML object>"
      ]
     },
     "metadata": {},
     "output_type": "display_data"
    },
    {
     "data": {
      "text/html": [
       "<hr></hr>"
      ],
      "text/plain": [
       "<IPython.core.display.HTML object>"
      ]
     },
     "metadata": {},
     "output_type": "display_data"
    },
    {
     "data": {
      "text/html": [
       "<h1> <b>Artist:</b> Warren G\t </h1> <h2> <b>Album:</b> Regulate… G Funk Era </h2> <br> <img src='https://i.scdn.co/image/ab67616d00001e02f6b9b62ea130943d371b69ef'> <br> <audio controls><source src='None' type='audio/ogg'> </audio>"
      ],
      "text/plain": [
       "<IPython.core.display.HTML object>"
      ]
     },
     "metadata": {},
     "output_type": "display_data"
    },
    {
     "data": {
      "text/html": [
       "<hr></hr>"
      ],
      "text/plain": [
       "<IPython.core.display.HTML object>"
      ]
     },
     "metadata": {},
     "output_type": "display_data"
    },
    {
     "data": {
      "text/html": [
       "<h1> <b>Artist:</b> Juicy J\t </h1> <h2> <b>Album:</b> Stay Trippy </h2> <br> <img src='https://i.scdn.co/image/ab67616d00001e02396bcd4043a871d830c848a3'> <br> <audio controls><source src='https://p.scdn.co/mp3-preview/0958ee470269059d2899803d27ae2a3e8694a3c3?cid=954f6f08ec5b452fa503be7526e23b98' type='audio/ogg'> </audio>"
      ],
      "text/plain": [
       "<IPython.core.display.HTML object>"
      ]
     },
     "metadata": {},
     "output_type": "display_data"
    },
    {
     "data": {
      "text/html": [
       "<hr></hr>"
      ],
      "text/plain": [
       "<IPython.core.display.HTML object>"
      ]
     },
     "metadata": {},
     "output_type": "display_data"
    }
   ],
   "source": [
    "rec = get_artists_rec(name, lim)"
   ]
  }
 ],
 "metadata": {
  "kernelspec": {
   "display_name": "env",
   "language": "python",
   "name": "env"
  },
  "language_info": {
   "codemirror_mode": {
    "name": "ipython",
    "version": 3
   },
   "file_extension": ".py",
   "mimetype": "text/x-python",
   "name": "python",
   "nbconvert_exporter": "python",
   "pygments_lexer": "ipython3",
   "version": "3.7.6"
  }
 },
 "nbformat": 4,
 "nbformat_minor": 2
}
