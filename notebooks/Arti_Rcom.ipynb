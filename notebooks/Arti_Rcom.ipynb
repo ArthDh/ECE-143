{
 "cells": [
  {
   "cell_type": "code",
   "execution_count": 1,
   "metadata": {},
   "outputs": [],
   "source": [
    "import pickle\n",
    "from pathlib import Path\n",
    "import numpy as np\n",
    "import heapq\n",
    "model_path = Path('../model/')"
   ]
  },
  {
   "cell_type": "code",
   "execution_count": 2,
   "metadata": {},
   "outputs": [],
   "source": [
    "with open(model_path/ 'n_deep_embeddings.pkl', 'rb') as fp:\n",
    "    data = pickle.load(fp)"
   ]
  },
  {
   "cell_type": "code",
   "execution_count": 3,
   "metadata": {},
   "outputs": [
    {
     "name": "stderr",
     "output_type": "stream",
     "text": [
      "<ipython-input-3-1265440f9db2>:1: FutureWarning: arrays to stack must be passed as a \"sequence\" type such as list or tuple. Support for non-sequence iterables such as generators is deprecated as of NumPy 1.16 and will raise an error in the future.\n",
      "  all_value = np.asarray(np.vstack(data.values()))\n",
      "<ipython-input-3-1265440f9db2>:2: FutureWarning: arrays to stack must be passed as a \"sequence\" type such as list or tuple. Support for non-sequence iterables such as generators is deprecated as of NumPy 1.16 and will raise an error in the future.\n",
      "  all_name = np.asarray(np.vstack(data.keys())[:,0])\n"
     ]
    }
   ],
   "source": [
    "all_value = np.asarray(np.vstack(data.values()))\n",
    "all_name = np.asarray(np.vstack(data.keys())[:,0])"
   ]
  },
  {
   "cell_type": "code",
   "execution_count": 4,
   "metadata": {},
   "outputs": [],
   "source": [
    "name = 'Eminem'"
   ]
  },
  {
   "cell_type": "code",
   "execution_count": 5,
   "metadata": {},
   "outputs": [
    {
     "data": {
      "text/plain": [
       "array([[-1.3614484 ,  0.35809037,  0.2906839 ,  0.22487944,  2.3958693 ,\n",
       "         0.3281519 , -0.9635981 ,  0.5242981 ,  0.9842661 ,  0.30885977,\n",
       "        -0.06218393,  1.3435705 , -0.4936986 ,  1.3835582 , -1.2432346 ,\n",
       "        -0.43634576,  0.35472295,  1.4136417 , -0.783934  ,  0.44364035,\n",
       "        -1.634343  , -1.006473  , -0.5667717 ,  0.38130277, -1.1447346 ,\n",
       "        -0.07547701, -1.1998695 ,  0.61676985, -0.03069945, -0.7271169 ,\n",
       "         0.3153629 , -0.16475473, -0.41238144, -0.1852836 ,  1.6438795 ,\n",
       "         0.9235435 ,  0.2276437 , -0.48158363, -0.39298463,  2.321482  ,\n",
       "         1.9809495 , -0.6774801 ,  0.52241373, -1.1419528 ,  0.11897881,\n",
       "        -1.0276203 ,  0.6076555 , -0.1659592 , -1.4220437 , -1.8781927 ]],\n",
       "      dtype=float32)"
      ]
     },
     "execution_count": 5,
     "metadata": {},
     "output_type": "execute_result"
    }
   ],
   "source": [
    "data[name]"
   ]
  },
  {
   "cell_type": "code",
   "execution_count": 6,
   "metadata": {},
   "outputs": [],
   "source": [
    "rank = np.sum((all_value - data[name])**2,axis=1)"
   ]
  },
  {
   "cell_type": "code",
   "execution_count": 7,
   "metadata": {},
   "outputs": [
    {
     "data": {
      "text/plain": [
       "array(['Eminem', 'Deep Inside', 'Dino & The Deltones',\n",
       "       ' Cortijo Y Su Combo', 'Cham', ' Yacht Money'], dtype='<U240')"
      ]
     },
     "execution_count": 7,
     "metadata": {},
     "output_type": "execute_result"
    }
   ],
   "source": [
    "idx = np.argpartition(rank, 5)\n",
    "all_name[idx][:6]"
   ]
  },
  {
   "cell_type": "code",
   "execution_count": 8,
   "metadata": {},
   "outputs": [
    {
     "name": "stdout",
     "output_type": "stream",
     "text": [
      "Top 5 recomendid singers:\n",
      " ['Deep Inside', 'Dino & The Deltones', ' Cortijo Y Su Combo', 'Cham', ' Yacht Money']\n"
     ]
    }
   ],
   "source": [
    "print('Top 5 recomendid singers:\\n',list(all_name[heapq.nsmallest(6, range(len(rank)), rank.take)][1:]))"
   ]
  }
 ],
 "metadata": {
  "kernelspec": {
   "display_name": "Python 3",
   "language": "python",
   "name": "python3"
  },
  "language_info": {
   "codemirror_mode": {
    "name": "ipython",
    "version": 3
   },
   "file_extension": ".py",
   "mimetype": "text/x-python",
   "name": "python",
   "nbconvert_exporter": "python",
   "pygments_lexer": "ipython3",
   "version": "3.7.4"
  }
 },
 "nbformat": 4,
 "nbformat_minor": 2
}
