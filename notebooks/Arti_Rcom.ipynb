{
 "cells": [
  {
   "cell_type": "code",
   "execution_count": 29,
   "metadata": {},
   "outputs": [],
   "source": [
    "import pickle\n",
    "from pathlib import Path\n",
    "import numpy as np\n",
    "import heapq\n",
    "model_path = Path('../model/')"
   ]
  },
  {
   "cell_type": "code",
   "execution_count": 41,
   "metadata": {},
   "outputs": [],
   "source": [
    "with open(model_path/ 'n_deep_embeddings.pkl', 'rb') as fp:\n",
    "    data = pickle.load(fp)"
   ]
  },
  {
   "cell_type": "code",
   "execution_count": null,
   "metadata": {},
   "outputs": [],
   "source": []
  },
  {
   "cell_type": "code",
   "execution_count": 42,
   "metadata": {},
   "outputs": [
    {
     "name": "stderr",
     "output_type": "stream",
     "text": [
      "/home/eason/anaconda3/envs/untitled/lib/python3.7/site-packages/ipykernel_launcher.py:1: FutureWarning: arrays to stack must be passed as a \"sequence\" type such as list or tuple. Support for non-sequence iterables such as generators is deprecated as of NumPy 1.16 and will raise an error in the future.\n",
      "  \"\"\"Entry point for launching an IPython kernel.\n",
      "/home/eason/anaconda3/envs/untitled/lib/python3.7/site-packages/ipykernel_launcher.py:2: FutureWarning: arrays to stack must be passed as a \"sequence\" type such as list or tuple. Support for non-sequence iterables such as generators is deprecated as of NumPy 1.16 and will raise an error in the future.\n",
      "  \n"
     ]
    }
   ],
   "source": [
    "all_value = np.asarray(np.vstack(data.values()))\n",
    "all_name = np.asarray(np.vstack(data.keys())[:,0])"
   ]
  },
  {
   "cell_type": "code",
   "execution_count": 43,
   "metadata": {},
   "outputs": [],
   "source": [
    "name = 'Eminem'"
   ]
  },
  {
   "cell_type": "code",
   "execution_count": 44,
   "metadata": {},
   "outputs": [
    {
     "data": {
      "text/plain": [
       "array([[ 0.74627155,  0.61291516,  1.3296489 , -0.63663787,  0.93821305,\n",
       "        -0.76485336,  0.37121436, -0.19821918,  0.30184487,  0.15205881,\n",
       "        -0.6775832 , -0.01295319,  0.7536217 ,  1.1278185 , -0.14641237,\n",
       "        -1.1593522 ,  2.1846104 ,  1.2999456 ,  0.55412734, -0.33376598,\n",
       "         0.65679324, -1.656781  ,  0.00850408,  1.6830736 ,  1.0641835 ,\n",
       "        -0.5772457 ,  0.30286324,  2.1663465 ,  0.35956666, -0.13353045,\n",
       "         1.16443   ,  0.943131  , -0.00768909,  1.0643317 , -0.7172387 ,\n",
       "        -0.00888032, -0.29633027,  0.3691425 , -0.9073038 , -0.16489458,\n",
       "         0.7794745 , -0.60368997, -1.0616087 ,  1.2971109 ,  1.4202749 ,\n",
       "         1.4403139 ,  0.501407  ,  0.8526204 ,  0.9049554 ,  0.58798534]],\n",
       "      dtype=float32)"
      ]
     },
     "execution_count": 44,
     "metadata": {},
     "output_type": "execute_result"
    }
   ],
   "source": [
    "data[name]"
   ]
  },
  {
   "cell_type": "code",
   "execution_count": 45,
   "metadata": {},
   "outputs": [],
   "source": [
    "rank = np.sum((all_value - data[name])**2,axis=1)"
   ]
  },
  {
   "cell_type": "code",
   "execution_count": 56,
   "metadata": {},
   "outputs": [
    {
     "data": {
      "text/plain": [
       "array(['Eminem', 'Tapati Dam', 'Joey Bada$$', ' League of Legends',\n",
       "       'Bobby O', 'عبد الغنى السيد'], dtype='<U240')"
      ]
     },
     "execution_count": 56,
     "metadata": {},
     "output_type": "execute_result"
    }
   ],
   "source": [
    "idx = np.argpartition(rank, 5)\n",
    "all_name[idx][:6]"
   ]
  },
  {
   "cell_type": "code",
   "execution_count": 46,
   "metadata": {},
   "outputs": [
    {
     "name": "stdout",
     "output_type": "stream",
     "text": [
      "Top 5 recomendid singers:\n",
      " ['Tapati Dam', 'Joey Bada$$', ' League of Legends', 'Bobby O', 'عبد الغنى السيد']\n"
     ]
    }
   ],
   "source": [
    "print('Top 5 recomendid singers:\\n',list(all_name[heapq.nsmallest(6, range(len(rank)), rank.take)][1:]))"
   ]
  },
  {
   "cell_type": "code",
   "execution_count": null,
   "metadata": {},
   "outputs": [],
   "source": []
  }
 ],
 "metadata": {
  "kernelspec": {
   "display_name": "Python 3",
   "language": "python",
   "name": "python3"
  },
  "language_info": {
   "codemirror_mode": {
    "name": "ipython",
    "version": 3
   },
   "file_extension": ".py",
   "mimetype": "text/x-python",
   "name": "python",
   "nbconvert_exporter": "python",
   "pygments_lexer": "ipython3",
   "version": "3.7.4"
  }
 },
 "nbformat": 4,
 "nbformat_minor": 2
}
