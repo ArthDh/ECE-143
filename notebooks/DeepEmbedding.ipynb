{
 "cells": [
  {
   "cell_type": "code",
   "execution_count": 1,
   "metadata": {},
   "outputs": [],
   "source": [
    "import numpy as np\n",
    "import pandas as pd\n",
    "from pathlib import Path\n",
    "import sys, os\n",
    "import matplotlib.pyplot as plt\n",
    "import random\n",
    "\n",
    "sys.path.append(os.path.abspath('../util'))\n",
    "# sys.path.append(os.path.abspath('../'))\n",
    "\n",
    "%matplotlib inline"
   ]
  },
  {
   "cell_type": "code",
   "execution_count": 2,
   "metadata": {},
   "outputs": [],
   "source": [
    "data_path = Path('../data/')\n",
    "# data_genre = data_path / Path('data_w_genres.csv')\n",
    "df_path= data_path / Path('df_cleaned__by_artist.csv')"
   ]
  },
  {
   "cell_type": "markdown",
   "metadata": {},
   "source": [
    "CSV file contains float columns as features and using artist as a label for multiclass prediction.\n",
    "If a song was produced by >1 artist the row has been split into mulitple rows so that each row only\n",
    "has one artist."
   ]
  },
  {
   "cell_type": "code",
   "execution_count": 3,
   "metadata": {},
   "outputs": [
    {
     "data": {
      "text/html": [
       "<div>\n",
       "<style scoped>\n",
       "    .dataframe tbody tr th:only-of-type {\n",
       "        vertical-align: middle;\n",
       "    }\n",
       "\n",
       "    .dataframe tbody tr th {\n",
       "        vertical-align: top;\n",
       "    }\n",
       "\n",
       "    .dataframe thead th {\n",
       "        text-align: right;\n",
       "    }\n",
       "</style>\n",
       "<table border=\"1\" class=\"dataframe\">\n",
       "  <thead>\n",
       "    <tr style=\"text-align: right;\">\n",
       "      <th></th>\n",
       "      <th>acousticness</th>\n",
       "      <th>danceability</th>\n",
       "      <th>duration_ms</th>\n",
       "      <th>energy</th>\n",
       "      <th>explicit</th>\n",
       "      <th>instrumentalness</th>\n",
       "      <th>key</th>\n",
       "      <th>liveness</th>\n",
       "      <th>loudness</th>\n",
       "      <th>mode</th>\n",
       "      <th>popularity</th>\n",
       "      <th>speechiness</th>\n",
       "      <th>tempo</th>\n",
       "      <th>valence</th>\n",
       "      <th>artists</th>\n",
       "    </tr>\n",
       "  </thead>\n",
       "  <tbody>\n",
       "    <tr>\n",
       "      <th>0</th>\n",
       "      <td>0.998996</td>\n",
       "      <td>0.716599</td>\n",
       "      <td>0.028442</td>\n",
       "      <td>0.1950</td>\n",
       "      <td>0.0</td>\n",
       "      <td>0.563</td>\n",
       "      <td>0.909091</td>\n",
       "      <td>0.1510</td>\n",
       "      <td>0.745000</td>\n",
       "      <td>1.0</td>\n",
       "      <td>0.0</td>\n",
       "      <td>0.052219</td>\n",
       "      <td>0.485348</td>\n",
       "      <td>0.7790</td>\n",
       "      <td>Carl Woitschach</td>\n",
       "    </tr>\n",
       "    <tr>\n",
       "      <th>1</th>\n",
       "      <td>0.997992</td>\n",
       "      <td>0.383603</td>\n",
       "      <td>0.051316</td>\n",
       "      <td>0.0135</td>\n",
       "      <td>0.0</td>\n",
       "      <td>0.901</td>\n",
       "      <td>0.727273</td>\n",
       "      <td>0.0763</td>\n",
       "      <td>0.494026</td>\n",
       "      <td>1.0</td>\n",
       "      <td>0.0</td>\n",
       "      <td>0.047678</td>\n",
       "      <td>0.344019</td>\n",
       "      <td>0.0767</td>\n",
       "      <td>Robert Schumann</td>\n",
       "    </tr>\n",
       "    <tr>\n",
       "      <th>2</th>\n",
       "      <td>0.997992</td>\n",
       "      <td>0.383603</td>\n",
       "      <td>0.051316</td>\n",
       "      <td>0.0135</td>\n",
       "      <td>0.0</td>\n",
       "      <td>0.901</td>\n",
       "      <td>0.727273</td>\n",
       "      <td>0.0763</td>\n",
       "      <td>0.494026</td>\n",
       "      <td>1.0</td>\n",
       "      <td>0.0</td>\n",
       "      <td>0.047678</td>\n",
       "      <td>0.344019</td>\n",
       "      <td>0.0767</td>\n",
       "      <td>Vladimir Horowitz</td>\n",
       "    </tr>\n",
       "    <tr>\n",
       "      <th>3</th>\n",
       "      <td>0.606426</td>\n",
       "      <td>0.758097</td>\n",
       "      <td>0.018374</td>\n",
       "      <td>0.2200</td>\n",
       "      <td>0.0</td>\n",
       "      <td>0.000</td>\n",
       "      <td>0.454545</td>\n",
       "      <td>0.1190</td>\n",
       "      <td>0.627609</td>\n",
       "      <td>0.0</td>\n",
       "      <td>0.0</td>\n",
       "      <td>0.958720</td>\n",
       "      <td>0.439086</td>\n",
       "      <td>0.8800</td>\n",
       "      <td>Seweryn Goszczyński</td>\n",
       "    </tr>\n",
       "    <tr>\n",
       "      <th>4</th>\n",
       "      <td>0.998996</td>\n",
       "      <td>0.790486</td>\n",
       "      <td>0.032538</td>\n",
       "      <td>0.1300</td>\n",
       "      <td>0.0</td>\n",
       "      <td>0.887</td>\n",
       "      <td>0.090909</td>\n",
       "      <td>0.1110</td>\n",
       "      <td>0.708887</td>\n",
       "      <td>0.0</td>\n",
       "      <td>0.0</td>\n",
       "      <td>0.095562</td>\n",
       "      <td>0.442470</td>\n",
       "      <td>0.7200</td>\n",
       "      <td>Francisco Canaro</td>\n",
       "    </tr>\n",
       "  </tbody>\n",
       "</table>\n",
       "</div>"
      ],
      "text/plain": [
       "   acousticness  danceability  duration_ms  energy  explicit  \\\n",
       "0      0.998996      0.716599     0.028442  0.1950       0.0   \n",
       "1      0.997992      0.383603     0.051316  0.0135       0.0   \n",
       "2      0.997992      0.383603     0.051316  0.0135       0.0   \n",
       "3      0.606426      0.758097     0.018374  0.2200       0.0   \n",
       "4      0.998996      0.790486     0.032538  0.1300       0.0   \n",
       "\n",
       "   instrumentalness       key  liveness  loudness  mode  popularity  \\\n",
       "0             0.563  0.909091    0.1510  0.745000   1.0         0.0   \n",
       "1             0.901  0.727273    0.0763  0.494026   1.0         0.0   \n",
       "2             0.901  0.727273    0.0763  0.494026   1.0         0.0   \n",
       "3             0.000  0.454545    0.1190  0.627609   0.0         0.0   \n",
       "4             0.887  0.090909    0.1110  0.708887   0.0         0.0   \n",
       "\n",
       "   speechiness     tempo  valence              artists  \n",
       "0     0.052219  0.485348   0.7790      Carl Woitschach  \n",
       "1     0.047678  0.344019   0.0767      Robert Schumann  \n",
       "2     0.047678  0.344019   0.0767    Vladimir Horowitz  \n",
       "3     0.958720  0.439086   0.8800  Seweryn Goszczyński  \n",
       "4     0.095562  0.442470   0.7200     Francisco Canaro  "
      ]
     },
     "execution_count": 3,
     "metadata": {},
     "output_type": "execute_result"
    }
   ],
   "source": [
    "df = pd.read_csv(df_path,index_col=0)\n",
    "df.head()"
   ]
  },
  {
   "cell_type": "code",
   "execution_count": 4,
   "metadata": {},
   "outputs": [],
   "source": [
    "artists_names = df.artists"
   ]
  },
  {
   "cell_type": "code",
   "execution_count": 5,
   "metadata": {},
   "outputs": [],
   "source": [
    "index_artist = dict(((i, artist) for i,artist in  enumerate(artists_names.unique())))\n",
    "artist_index = dict((val, key) for key,val in index_artist.items() )"
   ]
  },
  {
   "cell_type": "code",
   "execution_count": 6,
   "metadata": {},
   "outputs": [],
   "source": [
    "df = df.drop(['artists'], axis =1)"
   ]
  },
  {
   "cell_type": "code",
   "execution_count": 7,
   "metadata": {},
   "outputs": [
    {
     "data": {
      "text/plain": [
       "('Queen', 2176)"
      ]
     },
     "execution_count": 7,
     "metadata": {},
     "output_type": "execute_result"
    }
   ],
   "source": [
    "index_artist[2176] , artist_index['Queen']"
   ]
  },
  {
   "cell_type": "markdown",
   "metadata": {},
   "source": [
    "# Model\n",
    "\n",
    "- Create a generator with True/ Fake samples\n",
    "    - Fake samples: Choose a random vector and assign a label that is not its true artist label (1/-1)\n",
    "- Create an embedding layer for the artists and pass the remaining features to a FC layer\n",
    "- Train the model to see if it can detect fakes (BCE)\n",
    "- User inputs song\n",
    "    - Featurize the song using spotify api\n",
    "    - Input the features into model(Artist in dict | Artist not in dict)\n",
    "    - Works for Artist in dict, if artist not in dict???"
   ]
  },
  {
   "cell_type": "code",
   "execution_count": 8,
   "metadata": {},
   "outputs": [
    {
     "data": {
      "text/plain": [
       "('Paul McCartney', 2032, 'Paul McCartney')"
      ]
     },
     "execution_count": 8,
     "metadata": {},
     "output_type": "execute_result"
    }
   ],
   "source": [
    "artists_names[5000], artist_index[artists_names[5000]], index_artist[2032]"
   ]
  },
  {
   "cell_type": "code",
   "execution_count": 9,
   "metadata": {},
   "outputs": [],
   "source": [
    "import torch\n",
    "import torch.nn as nn\n",
    "import torch.nn.functional as F"
   ]
  },
  {
   "cell_type": "code",
   "execution_count": 10,
   "metadata": {},
   "outputs": [],
   "source": [
    "class Dataset(torch.utils.data.Dataset):\n",
    "    'Characterizes a dataset for PyTorch'\n",
    "    def __init__(self, df, cols, is_truth = 1):\n",
    "        'Initialization'\n",
    "        self.df = df\n",
    "#         self.false_pct = false_pct\n",
    "        self.cols = cols\n",
    "        self.is_truth = is_truth\n",
    "\n",
    "    def __len__(self):\n",
    "        'Denotes the total number of samples'\n",
    "        return len(self.df)\n",
    "\n",
    "    def __getitem__(self, index):\n",
    "        'Generates one sample of data'\n",
    "        true_label = 1\n",
    "        fake_label = -1\n",
    "        \n",
    "        if self.is_truth: \n",
    "            return torch.tensor([self.df[self.cols].iloc[index]]).double(), \\\n",
    "                   artist_index[artists_names[index]],\\\n",
    "                   torch.tensor([true_label])\n",
    "        else:\n",
    "            return torch.rand(len(list(df.columns))).unsqueeze(0).double(), \\\n",
    "                   artist_index[artists_names[random.choice(range(0,len(df)))]], \\\n",
    "                   torch.tensor([fake_label])"
   ]
  },
  {
   "cell_type": "code",
   "execution_count": 39,
   "metadata": {},
   "outputs": [],
   "source": [
    "class DeepEmbed(nn.Module):\n",
    "\n",
    "    def __init__(self, feature_size, lookup_size, embedding_dim, batch_size):\n",
    "        super(DeepEmbed, self).__init__()\n",
    "        # Should Input size be (None,1) ?         \n",
    "        self.embeddings = nn.Embedding(lookup_size, embedding_dim)\n",
    "        self.linear1 = nn.Linear(embedding_dim, 128)\n",
    "        self.head = nn.Linear(feature_size, 128)\n",
    "        self.op_layer = nn.Linear(256, 1)\n",
    "        self.batch_size = batch_size\n",
    "\n",
    "    def forward(self, feature_input, lookup_input):\n",
    "        embeds = self.embeddings(lookup_input).view(self.batch_size, 1, -1)\n",
    "        out1 = F.relu(self.linear1(embeds))\n",
    "        out2 = F.relu(self.head(feature_input))\n",
    "        output_concat = torch.cat([out1, out2], axis =-1)\n",
    "        out = torch.sigmoid(self.op_layer(output_concat))\n",
    "        return out.squeeze(1)"
   ]
  },
  {
   "cell_type": "code",
   "execution_count": 40,
   "metadata": {},
   "outputs": [],
   "source": [
    "# CUDA for PyTorch\n",
    "use_cuda = torch.cuda.is_available()\n",
    "device = torch.device(\"cuda:0\" if use_cuda else \"cpu\")\n",
    "torch.backends.cudnn.benchmark = True"
   ]
  },
  {
   "cell_type": "code",
   "execution_count": 41,
   "metadata": {},
   "outputs": [],
   "source": [
    "truth_set = Dataset(df, list(df.columns), is_truth=True)\n",
    "fake_set = Dataset(df, list(df.columns), is_truth=False)\n",
    "full_ds = torch.utils.data.ConcatDataset([truth_set, fake_set])\n",
    "# training_generator = torch.utils.data.DataLoader(training_set, **params)"
   ]
  },
  {
   "cell_type": "code",
   "execution_count": 54,
   "metadata": {},
   "outputs": [],
   "source": [
    "lookup_size = len(artists_names.unique())\n",
    "emb_dim = 50\n",
    "feature_size = len(df.columns)\n",
    "learning_rate = 1e-4\n",
    "batch_size = 256\n",
    "epochs = 50 \n",
    "\n",
    "criterion = nn.BCELoss()"
   ]
  },
  {
   "cell_type": "code",
   "execution_count": 55,
   "metadata": {},
   "outputs": [],
   "source": [
    "train_dl = torch.utils.data.DataLoader(full_ds, batch_size=batch_size, shuffle=True, num_workers=0)\n",
    "_iter = iter(train_dl)"
   ]
  },
  {
   "cell_type": "code",
   "execution_count": 56,
   "metadata": {},
   "outputs": [
    {
     "data": {
      "text/plain": [
       "torch.Size([256, 1, 14])"
      ]
     },
     "execution_count": 56,
     "metadata": {},
     "output_type": "execute_result"
    }
   ],
   "source": [
    "features, artist, label = next(_iter)\n",
    "# (features.shape), artist, index_artist[int(artist)] , label\n",
    "features.shape"
   ]
  },
  {
   "cell_type": "code",
   "execution_count": 57,
   "metadata": {},
   "outputs": [
    {
     "name": "stdout",
     "output_type": "stream",
     "text": [
      "DeepEmbed(\n",
      "  (embeddings): Embedding(31465, 50)\n",
      "  (linear1): Linear(in_features=50, out_features=128, bias=True)\n",
      "  (head): Linear(in_features=14, out_features=128, bias=True)\n",
      "  (op_layer): Linear(in_features=256, out_features=1, bias=True)\n",
      ")\n"
     ]
    }
   ],
   "source": [
    "model = DeepEmbed(feature_size = feature_size, lookup_size=lookup_size, \\\n",
    "                  embedding_dim=emb_dim, batch_size=batch_size)\n",
    "optimizer = torch.optim.Adam(model.parameters(), lr=learning_rate)\n",
    "\n",
    "print(model)"
   ]
  },
  {
   "cell_type": "code",
   "execution_count": 58,
   "metadata": {},
   "outputs": [],
   "source": [
    "def train(model, device, train_loader, optimizer, criterion):\n",
    "    model.train()\n",
    "    y_true = []\n",
    "    y_pred = []\n",
    "    for epoch in range(epochs):\n",
    "        print(f\"--EPOCH {epoch}--\")\n",
    "        for i in train_loader:\n",
    "            feature, artist, label = i\n",
    "            feature, artist, label = feature.cuda(), artist.cuda(),label.cuda()\n",
    "            feature = feature.float()\n",
    "            label = label.float()\n",
    "            output = model(feature, artist)\n",
    "            output = output\n",
    "\n",
    "            loss = criterion(output, label) \n",
    "\n",
    "            optimizer.zero_grad()\n",
    "            loss.backward()\n",
    "            optimizer.step()\n",
    "\n",
    "            print(f\"{loss.item()}\")\n",
    "            break"
   ]
  },
  {
   "cell_type": "code",
   "execution_count": 59,
   "metadata": {},
   "outputs": [
    {
     "name": "stdout",
     "output_type": "stream",
     "text": [
      "--EPOCH 0--\n",
      "0.6565296649932861\n",
      "--EPOCH 1--\n",
      "0.6468492746353149\n",
      "--EPOCH 2--\n",
      "0.6615175008773804\n",
      "--EPOCH 3--\n",
      "0.6654900908470154\n",
      "--EPOCH 4--\n",
      "0.6526414155960083\n",
      "--EPOCH 5--\n",
      "0.664181113243103\n",
      "--EPOCH 6--\n",
      "0.6336917281150818\n",
      "--EPOCH 7--\n",
      "0.6464664340019226\n",
      "--EPOCH 8--\n",
      "0.6458895206451416\n",
      "--EPOCH 9--\n",
      "0.6296395659446716\n",
      "--EPOCH 10--\n",
      "0.6242449283599854\n",
      "--EPOCH 11--\n",
      "0.6332712173461914\n",
      "--EPOCH 12--\n",
      "0.6397718191146851\n",
      "--EPOCH 13--\n",
      "0.6118695735931396\n",
      "--EPOCH 14--\n",
      "0.6287440657615662\n",
      "--EPOCH 15--\n",
      "0.5983577966690063\n",
      "--EPOCH 16--\n",
      "0.6065517663955688\n",
      "--EPOCH 17--\n",
      "0.5939013957977295\n",
      "--EPOCH 18--\n",
      "0.6081289052963257\n",
      "--EPOCH 19--\n",
      "0.6013389825820923\n",
      "--EPOCH 20--\n",
      "0.5984784364700317\n",
      "--EPOCH 21--\n",
      "0.6073423624038696\n",
      "--EPOCH 22--\n",
      "0.5866132974624634\n",
      "--EPOCH 23--\n",
      "0.5968610644340515\n",
      "--EPOCH 24--\n",
      "0.5926480293273926\n",
      "--EPOCH 25--\n",
      "0.585694432258606\n",
      "--EPOCH 26--\n",
      "0.5940492153167725\n",
      "--EPOCH 27--\n",
      "0.5955565571784973\n",
      "--EPOCH 28--\n",
      "0.5734363198280334\n",
      "--EPOCH 29--\n",
      "0.5417684316635132\n",
      "--EPOCH 30--\n",
      "0.5950939655303955\n",
      "--EPOCH 31--\n",
      "0.5729548931121826\n",
      "--EPOCH 32--\n",
      "0.5644763708114624\n",
      "--EPOCH 33--\n",
      "0.5722314119338989\n",
      "--EPOCH 34--\n",
      "0.5384522676467896\n",
      "--EPOCH 35--\n",
      "0.5396121740341187\n",
      "--EPOCH 36--\n",
      "0.5272194147109985\n",
      "--EPOCH 37--\n",
      "0.5669766068458557\n",
      "--EPOCH 38--\n",
      "0.49963366985321045\n",
      "--EPOCH 39--\n",
      "0.5644203424453735\n",
      "--EPOCH 40--\n",
      "0.5640437602996826\n",
      "--EPOCH 41--\n",
      "0.5571171045303345\n",
      "--EPOCH 42--\n",
      "0.5516233444213867\n",
      "--EPOCH 43--\n",
      "0.5380539894104004\n",
      "--EPOCH 44--\n",
      "0.5330337285995483\n",
      "--EPOCH 45--\n",
      "0.5215216875076294\n",
      "--EPOCH 46--\n",
      "0.5270882248878479\n",
      "--EPOCH 47--\n",
      "0.5118393301963806\n",
      "--EPOCH 48--\n",
      "0.5474916696548462\n",
      "--EPOCH 49--\n",
      "0.5178600549697876\n"
     ]
    }
   ],
   "source": [
    "train(model.cuda(), device, train_dl, optimizer, criterion)"
   ]
  },
  {
   "cell_type": "code",
   "execution_count": null,
   "metadata": {},
   "outputs": [],
   "source": []
  }
 ],
 "metadata": {
  "kernelspec": {
   "display_name": "env",
   "language": "python",
   "name": "env"
  },
  "language_info": {
   "codemirror_mode": {
    "name": "ipython",
    "version": 3
   },
   "file_extension": ".py",
   "mimetype": "text/x-python",
   "name": "python",
   "nbconvert_exporter": "python",
   "pygments_lexer": "ipython3",
   "version": "3.7.6"
  }
 },
 "nbformat": 4,
 "nbformat_minor": 4
}
