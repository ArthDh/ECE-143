{
 "cells": [
  {
   "cell_type": "code",
   "execution_count": 1,
   "metadata": {},
   "outputs": [],
   "source": [
    "import os\n",
    "import pandas as pd\n",
    "import numpy as np\n",
    "import matplotlib.pyplot as plt\n",
    "from tqdm import tqdm\n",
    "import copy\n",
    "import seaborn as sns\n",
    "import time\n",
    "import random"
   ]
  },
  {
   "cell_type": "code",
   "execution_count": 2,
   "metadata": {},
   "outputs": [],
   "source": [
    "from sklearn.metrics import mean_squared_error as mse\n",
    "from sklearn.preprocessing import MinMaxScaler\n",
    "from sklearn.cluster import KMeans \n",
    "from sklearn.manifold import TSNE\n",
    "from sklearn.decomposition import PCA\n",
    "import joblib"
   ]
  },
  {
   "cell_type": "code",
   "execution_count": 3,
   "metadata": {},
   "outputs": [],
   "source": [
    "path = '../data/df_cleaned__by_artist.csv'\n",
    "df = pd.read_csv(path)\n",
    "df.head()\n",
    "del df['Unnamed: 0']"
   ]
  },
  {
   "cell_type": "markdown",
   "metadata": {},
   "source": [
    "# Data Cleaning"
   ]
  },
  {
   "cell_type": "markdown",
   "metadata": {},
   "source": [
    "Features Selection\n",
    "Looking closely at the features, there are some features to consider whether to include in the final model or not:\n",
    "\n",
    "id: id is unique for each track, therfore cannot assist a model and will be dropped.\n",
    "\n",
    "name: There are 132,940 unique values. In our opinion, this is a problematic categorical feature to insert in a model, and will be dropped.\n",
    "\n",
    "artists: there are 33,375 unique features. Since we enticipate the artist will influence the popularity of the track, this feature will remain and be handled seperatley.\n",
    "\n",
    "release_date: The 'year' feature is a derivative to the 'release_date' feature, therfore one of them should be excluded. Since the release date contains rows with full date and others with year only, the release_date will be dropped."
   ]
  },
  {
   "cell_type": "code",
   "execution_count": 4,
   "metadata": {},
   "outputs": [],
   "source": [
    "vc = df['artists'].value_counts()\n",
    "vc_gt100 = vc[vc.values >= 100].index\n",
    "df = df[df['artists'].isin(vc_gt100)]"
   ]
  },
  {
   "cell_type": "code",
   "execution_count": 5,
   "metadata": {},
   "outputs": [
    {
     "name": "stdout",
     "output_type": "stream",
     "text": [
      "1241 duplicated data in the current data frame\n"
     ]
    },
    {
     "data": {
      "text/plain": [
       "(59828, 15)"
      ]
     },
     "execution_count": 5,
     "metadata": {},
     "output_type": "execute_result"
    }
   ],
   "source": [
    "# Cleaning duplicated data\n",
    "print(df.duplicated().sum(),'duplicated data in the current data frame')\n",
    "df = df[~df.duplicated()==1]\n",
    "df.shape"
   ]
  },
  {
   "cell_type": "code",
   "execution_count": 6,
   "metadata": {},
   "outputs": [
    {
     "data": {
      "text/plain": [
       "0.0"
      ]
     },
     "execution_count": 6,
     "metadata": {},
     "output_type": "execute_result"
    }
   ],
   "source": [
    "min(df['loudness'])"
   ]
  },
  {
   "cell_type": "markdown",
   "metadata": {},
   "source": [
    "# Preprocessing"
   ]
  },
  {
   "cell_type": "code",
   "execution_count": 7,
   "metadata": {},
   "outputs": [
    {
     "data": {
      "text/html": [
       "<div>\n",
       "<style scoped>\n",
       "    .dataframe tbody tr th:only-of-type {\n",
       "        vertical-align: middle;\n",
       "    }\n",
       "\n",
       "    .dataframe tbody tr th {\n",
       "        vertical-align: top;\n",
       "    }\n",
       "\n",
       "    .dataframe thead th {\n",
       "        text-align: right;\n",
       "    }\n",
       "</style>\n",
       "<table border=\"1\" class=\"dataframe\">\n",
       "  <thead>\n",
       "    <tr style=\"text-align: right;\">\n",
       "      <th></th>\n",
       "      <th>acousticness</th>\n",
       "      <th>danceability</th>\n",
       "      <th>duration_ms</th>\n",
       "      <th>energy</th>\n",
       "      <th>explicit</th>\n",
       "      <th>instrumentalness</th>\n",
       "      <th>key</th>\n",
       "      <th>liveness</th>\n",
       "      <th>loudness</th>\n",
       "      <th>mode</th>\n",
       "      <th>popularity</th>\n",
       "      <th>speechiness</th>\n",
       "      <th>tempo</th>\n",
       "      <th>valence</th>\n",
       "      <th>artists</th>\n",
       "    </tr>\n",
       "  </thead>\n",
       "  <tbody>\n",
       "    <tr>\n",
       "      <th>1</th>\n",
       "      <td>0.997992</td>\n",
       "      <td>0.383603</td>\n",
       "      <td>0.051316</td>\n",
       "      <td>0.0135</td>\n",
       "      <td>0.0</td>\n",
       "      <td>0.901</td>\n",
       "      <td>0.727273</td>\n",
       "      <td>0.0763</td>\n",
       "      <td>0.494026</td>\n",
       "      <td>1.0</td>\n",
       "      <td>0.00</td>\n",
       "      <td>0.047678</td>\n",
       "      <td>0.344019</td>\n",
       "      <td>0.0767</td>\n",
       "      <td>Robert Schumann</td>\n",
       "    </tr>\n",
       "    <tr>\n",
       "      <th>2</th>\n",
       "      <td>0.997992</td>\n",
       "      <td>0.383603</td>\n",
       "      <td>0.051316</td>\n",
       "      <td>0.0135</td>\n",
       "      <td>0.0</td>\n",
       "      <td>0.901</td>\n",
       "      <td>0.727273</td>\n",
       "      <td>0.0763</td>\n",
       "      <td>0.494026</td>\n",
       "      <td>1.0</td>\n",
       "      <td>0.00</td>\n",
       "      <td>0.047678</td>\n",
       "      <td>0.344019</td>\n",
       "      <td>0.0767</td>\n",
       "      <td>Vladimir Horowitz</td>\n",
       "    </tr>\n",
       "    <tr>\n",
       "      <th>4</th>\n",
       "      <td>0.998996</td>\n",
       "      <td>0.790486</td>\n",
       "      <td>0.032538</td>\n",
       "      <td>0.1300</td>\n",
       "      <td>0.0</td>\n",
       "      <td>0.887</td>\n",
       "      <td>0.090909</td>\n",
       "      <td>0.1110</td>\n",
       "      <td>0.708887</td>\n",
       "      <td>0.0</td>\n",
       "      <td>0.00</td>\n",
       "      <td>0.095562</td>\n",
       "      <td>0.442470</td>\n",
       "      <td>0.7200</td>\n",
       "      <td>Francisco Canaro</td>\n",
       "    </tr>\n",
       "    <tr>\n",
       "      <th>5</th>\n",
       "      <td>0.993976</td>\n",
       "      <td>0.212551</td>\n",
       "      <td>0.126450</td>\n",
       "      <td>0.2040</td>\n",
       "      <td>0.0</td>\n",
       "      <td>0.908</td>\n",
       "      <td>1.000000</td>\n",
       "      <td>0.0980</td>\n",
       "      <td>0.676079</td>\n",
       "      <td>1.0</td>\n",
       "      <td>0.01</td>\n",
       "      <td>0.043756</td>\n",
       "      <td>0.254614</td>\n",
       "      <td>0.0693</td>\n",
       "      <td>Frédéric Chopin</td>\n",
       "    </tr>\n",
       "    <tr>\n",
       "      <th>6</th>\n",
       "      <td>0.993976</td>\n",
       "      <td>0.212551</td>\n",
       "      <td>0.126450</td>\n",
       "      <td>0.2040</td>\n",
       "      <td>0.0</td>\n",
       "      <td>0.908</td>\n",
       "      <td>1.000000</td>\n",
       "      <td>0.0980</td>\n",
       "      <td>0.676079</td>\n",
       "      <td>1.0</td>\n",
       "      <td>0.01</td>\n",
       "      <td>0.043756</td>\n",
       "      <td>0.254614</td>\n",
       "      <td>0.0693</td>\n",
       "      <td>Vladimir Horowitz</td>\n",
       "    </tr>\n",
       "  </tbody>\n",
       "</table>\n",
       "</div>"
      ],
      "text/plain": [
       "   acousticness  danceability  duration_ms  energy  explicit  \\\n",
       "1      0.997992      0.383603     0.051316  0.0135       0.0   \n",
       "2      0.997992      0.383603     0.051316  0.0135       0.0   \n",
       "4      0.998996      0.790486     0.032538  0.1300       0.0   \n",
       "5      0.993976      0.212551     0.126450  0.2040       0.0   \n",
       "6      0.993976      0.212551     0.126450  0.2040       0.0   \n",
       "\n",
       "   instrumentalness       key  liveness  loudness  mode  popularity  \\\n",
       "1             0.901  0.727273    0.0763  0.494026   1.0        0.00   \n",
       "2             0.901  0.727273    0.0763  0.494026   1.0        0.00   \n",
       "4             0.887  0.090909    0.1110  0.708887   0.0        0.00   \n",
       "5             0.908  1.000000    0.0980  0.676079   1.0        0.01   \n",
       "6             0.908  1.000000    0.0980  0.676079   1.0        0.01   \n",
       "\n",
       "   speechiness     tempo  valence             artists  \n",
       "1     0.047678  0.344019   0.0767     Robert Schumann  \n",
       "2     0.047678  0.344019   0.0767   Vladimir Horowitz  \n",
       "4     0.095562  0.442470   0.7200    Francisco Canaro  \n",
       "5     0.043756  0.254614   0.0693     Frédéric Chopin  \n",
       "6     0.043756  0.254614   0.0693   Vladimir Horowitz  "
      ]
     },
     "execution_count": 7,
     "metadata": {},
     "output_type": "execute_result"
    }
   ],
   "source": [
    "X = copy.deepcopy(df)\n",
    "X.head()"
   ]
  },
  {
   "cell_type": "code",
   "execution_count": 8,
   "metadata": {},
   "outputs": [],
   "source": [
    "song_features = pd.DataFrame()\n",
    "# normalizer instance\n",
    "scaler = MinMaxScaler()\n",
    "for col in X.columns:      # excluding year col i.e, of int64 type\n",
    "    if col != 'artists' and col != 'predicted_genres':\n",
    "        scaler.fit(X[[col]])\n",
    "        song_features[col] = scaler.transform(X[col].values.reshape(-1,1)).ravel() "
   ]
  },
  {
   "cell_type": "code",
   "execution_count": 9,
   "metadata": {},
   "outputs": [
    {
     "data": {
      "text/html": [
       "<div>\n",
       "<style scoped>\n",
       "    .dataframe tbody tr th:only-of-type {\n",
       "        vertical-align: middle;\n",
       "    }\n",
       "\n",
       "    .dataframe tbody tr th {\n",
       "        vertical-align: top;\n",
       "    }\n",
       "\n",
       "    .dataframe thead th {\n",
       "        text-align: right;\n",
       "    }\n",
       "</style>\n",
       "<table border=\"1\" class=\"dataframe\">\n",
       "  <thead>\n",
       "    <tr style=\"text-align: right;\">\n",
       "      <th></th>\n",
       "      <th>acousticness</th>\n",
       "      <th>danceability</th>\n",
       "      <th>duration_ms</th>\n",
       "      <th>energy</th>\n",
       "      <th>explicit</th>\n",
       "      <th>instrumentalness</th>\n",
       "      <th>key</th>\n",
       "      <th>liveness</th>\n",
       "      <th>loudness</th>\n",
       "      <th>mode</th>\n",
       "      <th>popularity</th>\n",
       "      <th>speechiness</th>\n",
       "      <th>tempo</th>\n",
       "      <th>valence</th>\n",
       "    </tr>\n",
       "  </thead>\n",
       "  <tbody>\n",
       "    <tr>\n",
       "      <th>0</th>\n",
       "      <td>0.997992</td>\n",
       "      <td>0.390319</td>\n",
       "      <td>0.102673</td>\n",
       "      <td>0.0135</td>\n",
       "      <td>0.0</td>\n",
       "      <td>0.901902</td>\n",
       "      <td>0.727273</td>\n",
       "      <td>0.0763</td>\n",
       "      <td>0.521456</td>\n",
       "      <td>1.0</td>\n",
       "      <td>0.00</td>\n",
       "      <td>0.047678</td>\n",
       "      <td>0.351502</td>\n",
       "      <td>0.076777</td>\n",
       "    </tr>\n",
       "    <tr>\n",
       "      <th>1</th>\n",
       "      <td>0.997992</td>\n",
       "      <td>0.390319</td>\n",
       "      <td>0.102673</td>\n",
       "      <td>0.0135</td>\n",
       "      <td>0.0</td>\n",
       "      <td>0.901902</td>\n",
       "      <td>0.727273</td>\n",
       "      <td>0.0763</td>\n",
       "      <td>0.521456</td>\n",
       "      <td>1.0</td>\n",
       "      <td>0.00</td>\n",
       "      <td>0.047678</td>\n",
       "      <td>0.351502</td>\n",
       "      <td>0.076777</td>\n",
       "    </tr>\n",
       "    <tr>\n",
       "      <th>2</th>\n",
       "      <td>0.998996</td>\n",
       "      <td>0.804325</td>\n",
       "      <td>0.065102</td>\n",
       "      <td>0.1300</td>\n",
       "      <td>0.0</td>\n",
       "      <td>0.887888</td>\n",
       "      <td>0.090909</td>\n",
       "      <td>0.1110</td>\n",
       "      <td>0.748248</td>\n",
       "      <td>0.0</td>\n",
       "      <td>0.00</td>\n",
       "      <td>0.095562</td>\n",
       "      <td>0.452094</td>\n",
       "      <td>0.720721</td>\n",
       "    </tr>\n",
       "    <tr>\n",
       "      <th>3</th>\n",
       "      <td>0.993976</td>\n",
       "      <td>0.216272</td>\n",
       "      <td>0.253000</td>\n",
       "      <td>0.2040</td>\n",
       "      <td>0.0</td>\n",
       "      <td>0.908909</td>\n",
       "      <td>1.000000</td>\n",
       "      <td>0.0980</td>\n",
       "      <td>0.713617</td>\n",
       "      <td>1.0</td>\n",
       "      <td>0.01</td>\n",
       "      <td>0.043756</td>\n",
       "      <td>0.260152</td>\n",
       "      <td>0.069369</td>\n",
       "    </tr>\n",
       "    <tr>\n",
       "      <th>4</th>\n",
       "      <td>0.993976</td>\n",
       "      <td>0.216272</td>\n",
       "      <td>0.253000</td>\n",
       "      <td>0.2040</td>\n",
       "      <td>0.0</td>\n",
       "      <td>0.908909</td>\n",
       "      <td>1.000000</td>\n",
       "      <td>0.0980</td>\n",
       "      <td>0.713617</td>\n",
       "      <td>1.0</td>\n",
       "      <td>0.01</td>\n",
       "      <td>0.043756</td>\n",
       "      <td>0.260152</td>\n",
       "      <td>0.069369</td>\n",
       "    </tr>\n",
       "    <tr>\n",
       "      <th>...</th>\n",
       "      <td>...</td>\n",
       "      <td>...</td>\n",
       "      <td>...</td>\n",
       "      <td>...</td>\n",
       "      <td>...</td>\n",
       "      <td>...</td>\n",
       "      <td>...</td>\n",
       "      <td>...</td>\n",
       "      <td>...</td>\n",
       "      <td>...</td>\n",
       "      <td>...</td>\n",
       "      <td>...</td>\n",
       "      <td>...</td>\n",
       "      <td>...</td>\n",
       "    </tr>\n",
       "    <tr>\n",
       "      <th>59823</th>\n",
       "      <td>0.004819</td>\n",
       "      <td>0.778579</td>\n",
       "      <td>0.072584</td>\n",
       "      <td>0.7470</td>\n",
       "      <td>1.0</td>\n",
       "      <td>0.005365</td>\n",
       "      <td>0.818182</td>\n",
       "      <td>0.5880</td>\n",
       "      <td>0.902423</td>\n",
       "      <td>1.0</td>\n",
       "      <td>0.70</td>\n",
       "      <td>0.047472</td>\n",
       "      <td>0.564830</td>\n",
       "      <td>0.068769</td>\n",
       "    </tr>\n",
       "    <tr>\n",
       "      <th>59824</th>\n",
       "      <td>0.580321</td>\n",
       "      <td>0.516993</td>\n",
       "      <td>0.107818</td>\n",
       "      <td>0.4620</td>\n",
       "      <td>0.0</td>\n",
       "      <td>0.000000</td>\n",
       "      <td>1.000000</td>\n",
       "      <td>0.7210</td>\n",
       "      <td>0.867396</td>\n",
       "      <td>1.0</td>\n",
       "      <td>0.70</td>\n",
       "      <td>0.027348</td>\n",
       "      <td>0.406392</td>\n",
       "      <td>0.304304</td>\n",
       "    </tr>\n",
       "    <tr>\n",
       "      <th>59825</th>\n",
       "      <td>0.023695</td>\n",
       "      <td>0.798146</td>\n",
       "      <td>0.085066</td>\n",
       "      <td>0.7200</td>\n",
       "      <td>1.0</td>\n",
       "      <td>0.000000</td>\n",
       "      <td>1.000000</td>\n",
       "      <td>0.1140</td>\n",
       "      <td>0.903316</td>\n",
       "      <td>0.0</td>\n",
       "      <td>0.66</td>\n",
       "      <td>0.199174</td>\n",
       "      <td>0.649181</td>\n",
       "      <td>0.490490</td>\n",
       "    </tr>\n",
       "    <tr>\n",
       "      <th>59826</th>\n",
       "      <td>0.069679</td>\n",
       "      <td>0.903193</td>\n",
       "      <td>0.084854</td>\n",
       "      <td>0.5540</td>\n",
       "      <td>1.0</td>\n",
       "      <td>0.000000</td>\n",
       "      <td>0.090909</td>\n",
       "      <td>0.0521</td>\n",
       "      <td>0.894191</td>\n",
       "      <td>1.0</td>\n",
       "      <td>0.65</td>\n",
       "      <td>0.311662</td>\n",
       "      <td>0.527734</td>\n",
       "      <td>0.585586</td>\n",
       "    </tr>\n",
       "    <tr>\n",
       "      <th>59827</th>\n",
       "      <td>0.013454</td>\n",
       "      <td>0.897013</td>\n",
       "      <td>0.072445</td>\n",
       "      <td>0.4930</td>\n",
       "      <td>1.0</td>\n",
       "      <td>0.000241</td>\n",
       "      <td>0.090909</td>\n",
       "      <td>0.3850</td>\n",
       "      <td>0.886736</td>\n",
       "      <td>1.0</td>\n",
       "      <td>0.70</td>\n",
       "      <td>0.211558</td>\n",
       "      <td>0.606915</td>\n",
       "      <td>0.049550</td>\n",
       "    </tr>\n",
       "  </tbody>\n",
       "</table>\n",
       "<p>59828 rows × 14 columns</p>\n",
       "</div>"
      ],
      "text/plain": [
       "       acousticness  danceability  duration_ms  energy  explicit  \\\n",
       "0          0.997992      0.390319     0.102673  0.0135       0.0   \n",
       "1          0.997992      0.390319     0.102673  0.0135       0.0   \n",
       "2          0.998996      0.804325     0.065102  0.1300       0.0   \n",
       "3          0.993976      0.216272     0.253000  0.2040       0.0   \n",
       "4          0.993976      0.216272     0.253000  0.2040       0.0   \n",
       "...             ...           ...          ...     ...       ...   \n",
       "59823      0.004819      0.778579     0.072584  0.7470       1.0   \n",
       "59824      0.580321      0.516993     0.107818  0.4620       0.0   \n",
       "59825      0.023695      0.798146     0.085066  0.7200       1.0   \n",
       "59826      0.069679      0.903193     0.084854  0.5540       1.0   \n",
       "59827      0.013454      0.897013     0.072445  0.4930       1.0   \n",
       "\n",
       "       instrumentalness       key  liveness  loudness  mode  popularity  \\\n",
       "0              0.901902  0.727273    0.0763  0.521456   1.0        0.00   \n",
       "1              0.901902  0.727273    0.0763  0.521456   1.0        0.00   \n",
       "2              0.887888  0.090909    0.1110  0.748248   0.0        0.00   \n",
       "3              0.908909  1.000000    0.0980  0.713617   1.0        0.01   \n",
       "4              0.908909  1.000000    0.0980  0.713617   1.0        0.01   \n",
       "...                 ...       ...       ...       ...   ...         ...   \n",
       "59823          0.005365  0.818182    0.5880  0.902423   1.0        0.70   \n",
       "59824          0.000000  1.000000    0.7210  0.867396   1.0        0.70   \n",
       "59825          0.000000  1.000000    0.1140  0.903316   0.0        0.66   \n",
       "59826          0.000000  0.090909    0.0521  0.894191   1.0        0.65   \n",
       "59827          0.000241  0.090909    0.3850  0.886736   1.0        0.70   \n",
       "\n",
       "       speechiness     tempo   valence  \n",
       "0         0.047678  0.351502  0.076777  \n",
       "1         0.047678  0.351502  0.076777  \n",
       "2         0.095562  0.452094  0.720721  \n",
       "3         0.043756  0.260152  0.069369  \n",
       "4         0.043756  0.260152  0.069369  \n",
       "...            ...       ...       ...  \n",
       "59823     0.047472  0.564830  0.068769  \n",
       "59824     0.027348  0.406392  0.304304  \n",
       "59825     0.199174  0.649181  0.490490  \n",
       "59826     0.311662  0.527734  0.585586  \n",
       "59827     0.211558  0.606915  0.049550  \n",
       "\n",
       "[59828 rows x 14 columns]"
      ]
     },
     "execution_count": 9,
     "metadata": {},
     "output_type": "execute_result"
    }
   ],
   "source": [
    "song_features"
   ]
  },
  {
   "cell_type": "code",
   "execution_count": 10,
   "metadata": {},
   "outputs": [],
   "source": [
    "# KMeans instance\n",
    "km = KMeans()\n",
    "k_rng = range(1,200)  # k value\n",
    "sse = [] # sse value for each k\n",
    "for i in k_rng:\n",
    "    km = KMeans(n_clusters = i)\n",
    "    km.fit(song_features.sample(1000))\n",
    "    # calculating sse\n",
    "    sse.append(km.inertia_) "
   ]
  },
  {
   "cell_type": "code",
   "execution_count": 11,
   "metadata": {},
   "outputs": [
    {
     "data": {
      "image/png": "[encoded data removed]",
      "text/plain": [
       "<Figure size 432x288 with 1 Axes>"
      ]
     },
     "metadata": {
      "needs_background": "light"
     },
     "output_type": "display_data"
    }
   ],
   "source": [
    "plt.plot(k_rng,sse)\n",
    "plt.xlabel('K value')\n",
    "plt.ylabel('SSE Error')\n",
    "plt.title('Best K value')\n",
    "# plt.ylim(0,400)\n",
    "# plt.xlim(0,100)\n",
    "plt.show()"
   ]
  },
  {
   "cell_type": "code",
   "execution_count": 12,
   "metadata": {},
   "outputs": [],
   "source": [
    "def sumtopk(values, k):\n",
    "    if k>len(values):\n",
    "        k = len(values)\n",
    "    values_c = np.partition(values, -1*k)\n",
    "    output = sum(values_c[-k:])\n",
    "    return output"
   ]
  },
  {
   "cell_type": "code",
   "execution_count": 13,
   "metadata": {},
   "outputs": [],
   "source": [
    "song_features = pd.DataFrame()\n",
    "# normalizer instance\n",
    "scaler = MinMaxScaler()\n",
    "for col in X.columns:      # excluding year col i.e, of int64 type\n",
    "    if col not in ['artists','predicted_genres']:\n",
    "        scaler.fit(X[[col]])\n",
    "        song_features[col] = scaler.transform(X[col].values.reshape(-1,1)).ravel() \n",
    "\n",
    "np.random.seed(3)\n",
    "k = 10\n",
    "km = KMeans(n_clusters=k)\n",
    "predicted_genres = km.fit_predict(song_features)"
   ]
  },
  {
   "cell_type": "code",
   "execution_count": 14,
   "metadata": {},
   "outputs": [],
   "source": [
    "song_features['predicted_genres'] = predicted_genres\n",
    "song_features['predicted_genres'] = song_features['predicted_genres'].apply(lambda x: 'Genre'+ str(x))"
   ]
  },
  {
   "cell_type": "code",
   "execution_count": 15,
   "metadata": {},
   "outputs": [
    {
     "data": {
      "image/png": "[encoded data removed]",
      "text/plain": [
       "<Figure size 720x432 with 1 Axes>"
      ]
     },
     "metadata": {
      "needs_background": "light"
     },
     "output_type": "display_data"
    }
   ],
   "source": [
    "genres_grp = song_features.groupby(['predicted_genres']).size()\n",
    "plt.figure(figsize=(10,6))\n",
    "genres_grp.sort_values(ascending=True).plot.barh(color='tomato')\n",
    "plt.xlabel('Total Songs')\n",
    "plt.title('Genre Ranking')\n",
    "plt.show()"
   ]
  },
  {
   "cell_type": "code",
   "execution_count": 16,
   "metadata": {},
   "outputs": [
    {
     "data": {
      "text/plain": [
       "['../model/km_10_freq_artists.pkl']"
      ]
     },
     "execution_count": 16,
     "metadata": {},
     "output_type": "execute_result"
    }
   ],
   "source": [
    "joblib.dump(km , '../model/km_%d_freq_artists.pkl'%k)"
   ]
  },
  {
   "cell_type": "code",
   "execution_count": 17,
   "metadata": {},
   "outputs": [],
   "source": [
    "X.to_csv('../data/df_cleaned.csv')\n",
    "song_features['predicted_genres'].to_csv('../data/df_cleaned_genre_%d.csv'%k)"
   ]
  },
  {
   "cell_type": "code",
   "execution_count": 18,
   "metadata": {},
   "outputs": [
    {
     "name": "stdout",
     "output_type": "stream",
     "text": [
      "top 10 in 10: 1.000000\n",
      "top 5 in 10: 0.971079\n",
      "top 3 in 10: 0.859732\n",
      "top 2 in 10: 0.716734\n"
     ]
    }
   ],
   "source": [
    "X['predicted_genres'] = song_features['predicted_genres'].values\n",
    "l = []\n",
    "for artist in vc_gt100:\n",
    "    a = X[X['artists'] == artist]\n",
    "    l.append(a['predicted_genres'].value_counts())\n",
    "for j in range(1,k//2):\n",
    "    per = []\n",
    "    for i in l:\n",
    "        per.append(sumtopk(i.values,k//j)/sum(i.values))\n",
    "    print('top %d in %d: %f'%(k//j, k, np.mean(per)))"
   ]
  },
  {
   "cell_type": "code",
   "execution_count": 19,
   "metadata": {},
   "outputs": [],
   "source": [
    "#clf = joblib.load('../model//km_20.pkl')"
   ]
  },
  {
   "cell_type": "code",
   "execution_count": 20,
   "metadata": {},
   "outputs": [],
   "source": [
    "#predicted_genres = clf.fit_predict(song_features)\n",
    "#song_features['predicted_genres'] = predicted_genres\n",
    "#song_features['predicted_genres'] = song_features['predicted_genres'].apply(lambda x: 'Genre'+ str(x))"
   ]
  },
  {
   "cell_type": "code",
   "execution_count": 21,
   "metadata": {},
   "outputs": [],
   "source": [
    "rndperm = np.random.permutation(df.shape[0])"
   ]
  },
  {
   "cell_type": "code",
   "execution_count": 22,
   "metadata": {},
   "outputs": [],
   "source": [
    "N = 10000\n",
    "df_subset = song_features.loc[rndperm[:N],:].copy()"
   ]
  },
  {
   "cell_type": "code",
   "execution_count": 23,
   "metadata": {},
   "outputs": [],
   "source": [
    "data_subset = df_subset.drop(labels='predicted_genres',axis=1).values"
   ]
  },
  {
   "cell_type": "code",
   "execution_count": null,
   "metadata": {},
   "outputs": [],
   "source": [
    "time_start = time.time()\n",
    "tsne = TSNE(n_components=2, verbose=10, perplexity=100, n_iter=600)\n",
    "tsne_results = tsne.fit_transform(data_subset)\n",
    "print('t-SNE done! Time elapsed: {} seconds'.format(time.time()-time_start))"
   ]
  },
  {
   "cell_type": "code",
   "execution_count": null,
   "metadata": {},
   "outputs": [],
   "source": [
    "df_subset['tsne-2d-one'] = tsne_results[:,0]\n",
    "df_subset['tsne-2d-two'] = tsne_results[:,1]\n",
    "plt.figure(figsize=(16,10))\n",
    "sns.scatterplot(\n",
    "    x=\"tsne-2d-one\", y=\"tsne-2d-two\",\n",
    "    hue=\"predicted_genres\",\n",
    "    palette=sns.color_palette(\"hls\", k),\n",
    "    data=df_subset,\n",
    "    legend=\"full\",\n",
    "    alpha=0.3\n",
    ")"
   ]
  },
  {
   "cell_type": "code",
   "execution_count": null,
   "metadata": {},
   "outputs": [],
   "source": [
    "pca_11 = PCA(n_components=11)\n",
    "pca_result_11 = pca_11.fit_transform(data_subset)"
   ]
  },
  {
   "cell_type": "code",
   "execution_count": null,
   "metadata": {},
   "outputs": [],
   "source": [
    "time_start = time.time()\n",
    "tsne = TSNE(n_components=2, verbose=10, perplexity=100, n_iter=600)\n",
    "tsne_pca_results = tsne.fit_transform(pca_result_11)\n",
    "print('t-SNE done! Time elapsed: {} seconds'.format(time.time()-time_start))"
   ]
  },
  {
   "cell_type": "code",
   "execution_count": null,
   "metadata": {},
   "outputs": [],
   "source": [
    "df_subset['tsne-pca10-one'] = tsne_pca_results[:,0]\n",
    "df_subset['tsne-pca10-two'] = tsne_pca_results[:,1]\n",
    "plt.figure(figsize=(16,10))\n",
    "sns.scatterplot(\n",
    "    x=\"tsne-pca10-one\", y=\"tsne-pca10-two\",\n",
    "    hue=\"predicted_genres\",\n",
    "    palette=sns.color_palette(\"hls\", k),\n",
    "    data=df_subset,\n",
    "    legend=\"full\",\n",
    "    alpha=0.3,\n",
    ")"
   ]
  }
 ],
 "metadata": {
  "kernelspec": {
   "display_name": "Python 3",
   "language": "python",
   "name": "python3"
  },
  "language_info": {
   "codemirror_mode": {
    "name": "ipython",
    "version": 3
   },
   "file_extension": ".py",
   "mimetype": "text/x-python",
   "name": "python",
   "nbconvert_exporter": "python",
   "pygments_lexer": "ipython3",
   "version": "3.7.6"
  }
 },
 "nbformat": 4,
 "nbformat_minor": 2
}
